{
 "cells": [
  {
   "cell_type": "code",
   "execution_count": 78,
   "metadata": {
    "executionInfo": {
     "elapsed": 36,
     "status": "ok",
     "timestamp": 1666359086352,
     "user": {
      "displayName": "Nitansh Jain",
      "userId": "16132165384365515816"
     },
     "user_tz": -330
    },
    "id": "WTJI0wwrK72G"
   },
   "outputs": [],
   "source": [
    "import pandas as pd\n",
    "import numpy as np\n",
    "import seaborn as sns\n",
    "import matplotlib.pyplot as plt\n"
   ]
  },
  {
   "cell_type": "code",
   "execution_count": 61,
   "metadata": {
    "executionInfo": {
     "elapsed": 895,
     "status": "ok",
     "timestamp": 1666359085719,
     "user": {
      "displayName": "Nitansh Jain",
      "userId": "16132165384365515816"
     },
     "user_tz": -330
    },
    "id": "UNkJU7RiMQpm"
   },
   "outputs": [],
   "source": [
    "csv_url = 'https://archive.ics.uci.edu/ml/machine-learning-databases/iris/iris.data'\n",
    "# using the attribute information as the column names\n",
    "col_names = ['Sepal_Length','Sepal_Width','Petal_Length','Petal_Width','Class']\n",
    "iris_df =  pd.read_csv(csv_url, names = col_names)"
   ]
  },
  {
   "cell_type": "code",
   "execution_count": 62,
   "metadata": {
    "colab": {
     "base_uri": "https://localhost:8080/",
     "height": 204
    },
    "executionInfo": {
     "elapsed": 34,
     "status": "ok",
     "timestamp": 1666359085720,
     "user": {
      "displayName": "Nitansh Jain",
      "userId": "16132165384365515816"
     },
     "user_tz": -330
    },
    "id": "PKduAOjeNj2X",
    "outputId": "9feb8281-9871-4965-b97e-1531651e87de"
   },
   "outputs": [
    {
     "data": {
      "text/html": [
       "\n",
       "  <div id=\"df-f0a9a14a-cd2f-4200-8416-d6d67ea68aa6\">\n",
       "    <div class=\"colab-df-container\">\n",
       "      <div>\n",
       "<style scoped>\n",
       "    .dataframe tbody tr th:only-of-type {\n",
       "        vertical-align: middle;\n",
       "    }\n",
       "\n",
       "    .dataframe tbody tr th {\n",
       "        vertical-align: top;\n",
       "    }\n",
       "\n",
       "    .dataframe thead th {\n",
       "        text-align: right;\n",
       "    }\n",
       "</style>\n",
       "<table border=\"1\" class=\"dataframe\">\n",
       "  <thead>\n",
       "    <tr style=\"text-align: right;\">\n",
       "      <th></th>\n",
       "      <th>Sepal_Length</th>\n",
       "      <th>Sepal_Width</th>\n",
       "      <th>Petal_Length</th>\n",
       "      <th>Petal_Width</th>\n",
       "      <th>Class</th>\n",
       "    </tr>\n",
       "  </thead>\n",
       "  <tbody>\n",
       "    <tr>\n",
       "      <th>0</th>\n",
       "      <td>5.1</td>\n",
       "      <td>3.5</td>\n",
       "      <td>1.4</td>\n",
       "      <td>0.2</td>\n",
       "      <td>Iris-setosa</td>\n",
       "    </tr>\n",
       "    <tr>\n",
       "      <th>1</th>\n",
       "      <td>4.9</td>\n",
       "      <td>3.0</td>\n",
       "      <td>1.4</td>\n",
       "      <td>0.2</td>\n",
       "      <td>Iris-setosa</td>\n",
       "    </tr>\n",
       "    <tr>\n",
       "      <th>2</th>\n",
       "      <td>4.7</td>\n",
       "      <td>3.2</td>\n",
       "      <td>1.3</td>\n",
       "      <td>0.2</td>\n",
       "      <td>Iris-setosa</td>\n",
       "    </tr>\n",
       "    <tr>\n",
       "      <th>3</th>\n",
       "      <td>4.6</td>\n",
       "      <td>3.1</td>\n",
       "      <td>1.5</td>\n",
       "      <td>0.2</td>\n",
       "      <td>Iris-setosa</td>\n",
       "    </tr>\n",
       "    <tr>\n",
       "      <th>4</th>\n",
       "      <td>5.0</td>\n",
       "      <td>3.6</td>\n",
       "      <td>1.4</td>\n",
       "      <td>0.2</td>\n",
       "      <td>Iris-setosa</td>\n",
       "    </tr>\n",
       "  </tbody>\n",
       "</table>\n",
       "</div>\n",
       "      <button class=\"colab-df-convert\" onclick=\"convertToInteractive('df-f0a9a14a-cd2f-4200-8416-d6d67ea68aa6')\"\n",
       "              title=\"Convert this dataframe to an interactive table.\"\n",
       "              style=\"display:none;\">\n",
       "        \n",
       "  <svg xmlns=\"http://www.w3.org/2000/svg\" height=\"24px\"viewBox=\"0 0 24 24\"\n",
       "       width=\"24px\">\n",
       "    <path d=\"M0 0h24v24H0V0z\" fill=\"none\"/>\n",
       "    <path d=\"M18.56 5.44l.94 2.06.94-2.06 2.06-.94-2.06-.94-.94-2.06-.94 2.06-2.06.94zm-11 1L8.5 8.5l.94-2.06 2.06-.94-2.06-.94L8.5 2.5l-.94 2.06-2.06.94zm10 10l.94 2.06.94-2.06 2.06-.94-2.06-.94-.94-2.06-.94 2.06-2.06.94z\"/><path d=\"M17.41 7.96l-1.37-1.37c-.4-.4-.92-.59-1.43-.59-.52 0-1.04.2-1.43.59L10.3 9.45l-7.72 7.72c-.78.78-.78 2.05 0 2.83L4 21.41c.39.39.9.59 1.41.59.51 0 1.02-.2 1.41-.59l7.78-7.78 2.81-2.81c.8-.78.8-2.07 0-2.86zM5.41 20L4 18.59l7.72-7.72 1.47 1.35L5.41 20z\"/>\n",
       "  </svg>\n",
       "      </button>\n",
       "      \n",
       "  <style>\n",
       "    .colab-df-container {\n",
       "      display:flex;\n",
       "      flex-wrap:wrap;\n",
       "      gap: 12px;\n",
       "    }\n",
       "\n",
       "    .colab-df-convert {\n",
       "      background-color: #E8F0FE;\n",
       "      border: none;\n",
       "      border-radius: 50%;\n",
       "      cursor: pointer;\n",
       "      display: none;\n",
       "      fill: #1967D2;\n",
       "      height: 32px;\n",
       "      padding: 0 0 0 0;\n",
       "      width: 32px;\n",
       "    }\n",
       "\n",
       "    .colab-df-convert:hover {\n",
       "      background-color: #E2EBFA;\n",
       "      box-shadow: 0px 1px 2px rgba(60, 64, 67, 0.3), 0px 1px 3px 1px rgba(60, 64, 67, 0.15);\n",
       "      fill: #174EA6;\n",
       "    }\n",
       "\n",
       "    [theme=dark] .colab-df-convert {\n",
       "      background-color: #3B4455;\n",
       "      fill: #D2E3FC;\n",
       "    }\n",
       "\n",
       "    [theme=dark] .colab-df-convert:hover {\n",
       "      background-color: #434B5C;\n",
       "      box-shadow: 0px 1px 3px 1px rgba(0, 0, 0, 0.15);\n",
       "      filter: drop-shadow(0px 1px 2px rgba(0, 0, 0, 0.3));\n",
       "      fill: #FFFFFF;\n",
       "    }\n",
       "  </style>\n",
       "\n",
       "      <script>\n",
       "        const buttonEl =\n",
       "          document.querySelector('#df-f0a9a14a-cd2f-4200-8416-d6d67ea68aa6 button.colab-df-convert');\n",
       "        buttonEl.style.display =\n",
       "          google.colab.kernel.accessAllowed ? 'block' : 'none';\n",
       "\n",
       "        async function convertToInteractive(key) {\n",
       "          const element = document.querySelector('#df-f0a9a14a-cd2f-4200-8416-d6d67ea68aa6');\n",
       "          const dataTable =\n",
       "            await google.colab.kernel.invokeFunction('convertToInteractive',\n",
       "                                                     [key], {});\n",
       "          if (!dataTable) return;\n",
       "\n",
       "          const docLinkHtml = 'Like what you see? Visit the ' +\n",
       "            '<a target=\"_blank\" href=https://colab.research.google.com/notebooks/data_table.ipynb>data table notebook</a>'\n",
       "            + ' to learn more about interactive tables.';\n",
       "          element.innerHTML = '';\n",
       "          dataTable['output_type'] = 'display_data';\n",
       "          await google.colab.output.renderOutput(dataTable, element);\n",
       "          const docLink = document.createElement('div');\n",
       "          docLink.innerHTML = docLinkHtml;\n",
       "          element.appendChild(docLink);\n",
       "        }\n",
       "      </script>\n",
       "    </div>\n",
       "  </div>\n",
       "  "
      ],
      "text/plain": [
       "   Sepal_Length  Sepal_Width  Petal_Length  Petal_Width        Class\n",
       "0           5.1          3.5           1.4          0.2  Iris-setosa\n",
       "1           4.9          3.0           1.4          0.2  Iris-setosa\n",
       "2           4.7          3.2           1.3          0.2  Iris-setosa\n",
       "3           4.6          3.1           1.5          0.2  Iris-setosa\n",
       "4           5.0          3.6           1.4          0.2  Iris-setosa"
      ]
     },
     "execution_count": 62,
     "metadata": {},
     "output_type": "execute_result"
    }
   ],
   "source": [
    "iris_df.head()"
   ]
  },
  {
   "cell_type": "code",
   "execution_count": 63,
   "metadata": {
    "executionInfo": {
     "elapsed": 33,
     "status": "ok",
     "timestamp": 1666359085721,
     "user": {
      "displayName": "Nitansh Jain",
      "userId": "16132165384365515816"
     },
     "user_tz": -330
    },
    "id": "JxTWaVNQOFpA"
   },
   "outputs": [],
   "source": [
    "from sklearn.preprocessing import LabelEncoder\n",
    "le = LabelEncoder()\n",
    "\n",
    "iris_df[\"Class\"] = le.fit_transform(iris_df[\"Class\"])"
   ]
  },
  {
   "cell_type": "code",
   "execution_count": 64,
   "metadata": {
    "colab": {
     "base_uri": "https://localhost:8080/",
     "height": 204
    },
    "executionInfo": {
     "elapsed": 33,
     "status": "ok",
     "timestamp": 1666359085722,
     "user": {
      "displayName": "Nitansh Jain",
      "userId": "16132165384365515816"
     },
     "user_tz": -330
    },
    "id": "gTw_I8A0P7sE",
    "outputId": "ff07abec-b67b-478b-e89b-87f13b029a1a"
   },
   "outputs": [
    {
     "data": {
      "text/html": [
       "\n",
       "  <div id=\"df-e8822d24-541e-42f2-b2b9-d3fde44fc9b8\">\n",
       "    <div class=\"colab-df-container\">\n",
       "      <div>\n",
       "<style scoped>\n",
       "    .dataframe tbody tr th:only-of-type {\n",
       "        vertical-align: middle;\n",
       "    }\n",
       "\n",
       "    .dataframe tbody tr th {\n",
       "        vertical-align: top;\n",
       "    }\n",
       "\n",
       "    .dataframe thead th {\n",
       "        text-align: right;\n",
       "    }\n",
       "</style>\n",
       "<table border=\"1\" class=\"dataframe\">\n",
       "  <thead>\n",
       "    <tr style=\"text-align: right;\">\n",
       "      <th></th>\n",
       "      <th>Sepal_Length</th>\n",
       "      <th>Sepal_Width</th>\n",
       "      <th>Petal_Length</th>\n",
       "      <th>Petal_Width</th>\n",
       "      <th>Class</th>\n",
       "    </tr>\n",
       "  </thead>\n",
       "  <tbody>\n",
       "    <tr>\n",
       "      <th>0</th>\n",
       "      <td>5.1</td>\n",
       "      <td>3.5</td>\n",
       "      <td>1.4</td>\n",
       "      <td>0.2</td>\n",
       "      <td>0</td>\n",
       "    </tr>\n",
       "    <tr>\n",
       "      <th>1</th>\n",
       "      <td>4.9</td>\n",
       "      <td>3.0</td>\n",
       "      <td>1.4</td>\n",
       "      <td>0.2</td>\n",
       "      <td>0</td>\n",
       "    </tr>\n",
       "    <tr>\n",
       "      <th>2</th>\n",
       "      <td>4.7</td>\n",
       "      <td>3.2</td>\n",
       "      <td>1.3</td>\n",
       "      <td>0.2</td>\n",
       "      <td>0</td>\n",
       "    </tr>\n",
       "    <tr>\n",
       "      <th>3</th>\n",
       "      <td>4.6</td>\n",
       "      <td>3.1</td>\n",
       "      <td>1.5</td>\n",
       "      <td>0.2</td>\n",
       "      <td>0</td>\n",
       "    </tr>\n",
       "    <tr>\n",
       "      <th>4</th>\n",
       "      <td>5.0</td>\n",
       "      <td>3.6</td>\n",
       "      <td>1.4</td>\n",
       "      <td>0.2</td>\n",
       "      <td>0</td>\n",
       "    </tr>\n",
       "  </tbody>\n",
       "</table>\n",
       "</div>\n",
       "      <button class=\"colab-df-convert\" onclick=\"convertToInteractive('df-e8822d24-541e-42f2-b2b9-d3fde44fc9b8')\"\n",
       "              title=\"Convert this dataframe to an interactive table.\"\n",
       "              style=\"display:none;\">\n",
       "        \n",
       "  <svg xmlns=\"http://www.w3.org/2000/svg\" height=\"24px\"viewBox=\"0 0 24 24\"\n",
       "       width=\"24px\">\n",
       "    <path d=\"M0 0h24v24H0V0z\" fill=\"none\"/>\n",
       "    <path d=\"M18.56 5.44l.94 2.06.94-2.06 2.06-.94-2.06-.94-.94-2.06-.94 2.06-2.06.94zm-11 1L8.5 8.5l.94-2.06 2.06-.94-2.06-.94L8.5 2.5l-.94 2.06-2.06.94zm10 10l.94 2.06.94-2.06 2.06-.94-2.06-.94-.94-2.06-.94 2.06-2.06.94z\"/><path d=\"M17.41 7.96l-1.37-1.37c-.4-.4-.92-.59-1.43-.59-.52 0-1.04.2-1.43.59L10.3 9.45l-7.72 7.72c-.78.78-.78 2.05 0 2.83L4 21.41c.39.39.9.59 1.41.59.51 0 1.02-.2 1.41-.59l7.78-7.78 2.81-2.81c.8-.78.8-2.07 0-2.86zM5.41 20L4 18.59l7.72-7.72 1.47 1.35L5.41 20z\"/>\n",
       "  </svg>\n",
       "      </button>\n",
       "      \n",
       "  <style>\n",
       "    .colab-df-container {\n",
       "      display:flex;\n",
       "      flex-wrap:wrap;\n",
       "      gap: 12px;\n",
       "    }\n",
       "\n",
       "    .colab-df-convert {\n",
       "      background-color: #E8F0FE;\n",
       "      border: none;\n",
       "      border-radius: 50%;\n",
       "      cursor: pointer;\n",
       "      display: none;\n",
       "      fill: #1967D2;\n",
       "      height: 32px;\n",
       "      padding: 0 0 0 0;\n",
       "      width: 32px;\n",
       "    }\n",
       "\n",
       "    .colab-df-convert:hover {\n",
       "      background-color: #E2EBFA;\n",
       "      box-shadow: 0px 1px 2px rgba(60, 64, 67, 0.3), 0px 1px 3px 1px rgba(60, 64, 67, 0.15);\n",
       "      fill: #174EA6;\n",
       "    }\n",
       "\n",
       "    [theme=dark] .colab-df-convert {\n",
       "      background-color: #3B4455;\n",
       "      fill: #D2E3FC;\n",
       "    }\n",
       "\n",
       "    [theme=dark] .colab-df-convert:hover {\n",
       "      background-color: #434B5C;\n",
       "      box-shadow: 0px 1px 3px 1px rgba(0, 0, 0, 0.15);\n",
       "      filter: drop-shadow(0px 1px 2px rgba(0, 0, 0, 0.3));\n",
       "      fill: #FFFFFF;\n",
       "    }\n",
       "  </style>\n",
       "\n",
       "      <script>\n",
       "        const buttonEl =\n",
       "          document.querySelector('#df-e8822d24-541e-42f2-b2b9-d3fde44fc9b8 button.colab-df-convert');\n",
       "        buttonEl.style.display =\n",
       "          google.colab.kernel.accessAllowed ? 'block' : 'none';\n",
       "\n",
       "        async function convertToInteractive(key) {\n",
       "          const element = document.querySelector('#df-e8822d24-541e-42f2-b2b9-d3fde44fc9b8');\n",
       "          const dataTable =\n",
       "            await google.colab.kernel.invokeFunction('convertToInteractive',\n",
       "                                                     [key], {});\n",
       "          if (!dataTable) return;\n",
       "\n",
       "          const docLinkHtml = 'Like what you see? Visit the ' +\n",
       "            '<a target=\"_blank\" href=https://colab.research.google.com/notebooks/data_table.ipynb>data table notebook</a>'\n",
       "            + ' to learn more about interactive tables.';\n",
       "          element.innerHTML = '';\n",
       "          dataTable['output_type'] = 'display_data';\n",
       "          await google.colab.output.renderOutput(dataTable, element);\n",
       "          const docLink = document.createElement('div');\n",
       "          docLink.innerHTML = docLinkHtml;\n",
       "          element.appendChild(docLink);\n",
       "        }\n",
       "      </script>\n",
       "    </div>\n",
       "  </div>\n",
       "  "
      ],
      "text/plain": [
       "   Sepal_Length  Sepal_Width  Petal_Length  Petal_Width  Class\n",
       "0           5.1          3.5           1.4          0.2      0\n",
       "1           4.9          3.0           1.4          0.2      0\n",
       "2           4.7          3.2           1.3          0.2      0\n",
       "3           4.6          3.1           1.5          0.2      0\n",
       "4           5.0          3.6           1.4          0.2      0"
      ]
     },
     "execution_count": 64,
     "metadata": {},
     "output_type": "execute_result"
    }
   ],
   "source": [
    "iris_df.head()"
   ]
  },
  {
   "cell_type": "code",
   "execution_count": 65,
   "metadata": {
    "colab": {
     "base_uri": "https://localhost:8080/",
     "height": 297
    },
    "executionInfo": {
     "elapsed": 32,
     "status": "ok",
     "timestamp": 1666359085723,
     "user": {
      "displayName": "Nitansh Jain",
      "userId": "16132165384365515816"
     },
     "user_tz": -330
    },
    "id": "kaHW7vA9QBC9",
    "outputId": "a68fec3a-060d-4983-a280-4b579512d078"
   },
   "outputs": [
    {
     "data": {
      "text/html": [
       "\n",
       "  <div id=\"df-aa14966b-fe6f-49cc-a6ad-b874a7477440\">\n",
       "    <div class=\"colab-df-container\">\n",
       "      <div>\n",
       "<style scoped>\n",
       "    .dataframe tbody tr th:only-of-type {\n",
       "        vertical-align: middle;\n",
       "    }\n",
       "\n",
       "    .dataframe tbody tr th {\n",
       "        vertical-align: top;\n",
       "    }\n",
       "\n",
       "    .dataframe thead th {\n",
       "        text-align: right;\n",
       "    }\n",
       "</style>\n",
       "<table border=\"1\" class=\"dataframe\">\n",
       "  <thead>\n",
       "    <tr style=\"text-align: right;\">\n",
       "      <th></th>\n",
       "      <th>Sepal_Length</th>\n",
       "      <th>Sepal_Width</th>\n",
       "      <th>Petal_Length</th>\n",
       "      <th>Petal_Width</th>\n",
       "      <th>Class</th>\n",
       "    </tr>\n",
       "  </thead>\n",
       "  <tbody>\n",
       "    <tr>\n",
       "      <th>count</th>\n",
       "      <td>150.000000</td>\n",
       "      <td>150.000000</td>\n",
       "      <td>150.000000</td>\n",
       "      <td>150.000000</td>\n",
       "      <td>150.000000</td>\n",
       "    </tr>\n",
       "    <tr>\n",
       "      <th>mean</th>\n",
       "      <td>5.843333</td>\n",
       "      <td>3.054000</td>\n",
       "      <td>3.758667</td>\n",
       "      <td>1.198667</td>\n",
       "      <td>1.000000</td>\n",
       "    </tr>\n",
       "    <tr>\n",
       "      <th>std</th>\n",
       "      <td>0.828066</td>\n",
       "      <td>0.433594</td>\n",
       "      <td>1.764420</td>\n",
       "      <td>0.763161</td>\n",
       "      <td>0.819232</td>\n",
       "    </tr>\n",
       "    <tr>\n",
       "      <th>min</th>\n",
       "      <td>4.300000</td>\n",
       "      <td>2.000000</td>\n",
       "      <td>1.000000</td>\n",
       "      <td>0.100000</td>\n",
       "      <td>0.000000</td>\n",
       "    </tr>\n",
       "    <tr>\n",
       "      <th>25%</th>\n",
       "      <td>5.100000</td>\n",
       "      <td>2.800000</td>\n",
       "      <td>1.600000</td>\n",
       "      <td>0.300000</td>\n",
       "      <td>0.000000</td>\n",
       "    </tr>\n",
       "    <tr>\n",
       "      <th>50%</th>\n",
       "      <td>5.800000</td>\n",
       "      <td>3.000000</td>\n",
       "      <td>4.350000</td>\n",
       "      <td>1.300000</td>\n",
       "      <td>1.000000</td>\n",
       "    </tr>\n",
       "    <tr>\n",
       "      <th>75%</th>\n",
       "      <td>6.400000</td>\n",
       "      <td>3.300000</td>\n",
       "      <td>5.100000</td>\n",
       "      <td>1.800000</td>\n",
       "      <td>2.000000</td>\n",
       "    </tr>\n",
       "    <tr>\n",
       "      <th>max</th>\n",
       "      <td>7.900000</td>\n",
       "      <td>4.400000</td>\n",
       "      <td>6.900000</td>\n",
       "      <td>2.500000</td>\n",
       "      <td>2.000000</td>\n",
       "    </tr>\n",
       "  </tbody>\n",
       "</table>\n",
       "</div>\n",
       "      <button class=\"colab-df-convert\" onclick=\"convertToInteractive('df-aa14966b-fe6f-49cc-a6ad-b874a7477440')\"\n",
       "              title=\"Convert this dataframe to an interactive table.\"\n",
       "              style=\"display:none;\">\n",
       "        \n",
       "  <svg xmlns=\"http://www.w3.org/2000/svg\" height=\"24px\"viewBox=\"0 0 24 24\"\n",
       "       width=\"24px\">\n",
       "    <path d=\"M0 0h24v24H0V0z\" fill=\"none\"/>\n",
       "    <path d=\"M18.56 5.44l.94 2.06.94-2.06 2.06-.94-2.06-.94-.94-2.06-.94 2.06-2.06.94zm-11 1L8.5 8.5l.94-2.06 2.06-.94-2.06-.94L8.5 2.5l-.94 2.06-2.06.94zm10 10l.94 2.06.94-2.06 2.06-.94-2.06-.94-.94-2.06-.94 2.06-2.06.94z\"/><path d=\"M17.41 7.96l-1.37-1.37c-.4-.4-.92-.59-1.43-.59-.52 0-1.04.2-1.43.59L10.3 9.45l-7.72 7.72c-.78.78-.78 2.05 0 2.83L4 21.41c.39.39.9.59 1.41.59.51 0 1.02-.2 1.41-.59l7.78-7.78 2.81-2.81c.8-.78.8-2.07 0-2.86zM5.41 20L4 18.59l7.72-7.72 1.47 1.35L5.41 20z\"/>\n",
       "  </svg>\n",
       "      </button>\n",
       "      \n",
       "  <style>\n",
       "    .colab-df-container {\n",
       "      display:flex;\n",
       "      flex-wrap:wrap;\n",
       "      gap: 12px;\n",
       "    }\n",
       "\n",
       "    .colab-df-convert {\n",
       "      background-color: #E8F0FE;\n",
       "      border: none;\n",
       "      border-radius: 50%;\n",
       "      cursor: pointer;\n",
       "      display: none;\n",
       "      fill: #1967D2;\n",
       "      height: 32px;\n",
       "      padding: 0 0 0 0;\n",
       "      width: 32px;\n",
       "    }\n",
       "\n",
       "    .colab-df-convert:hover {\n",
       "      background-color: #E2EBFA;\n",
       "      box-shadow: 0px 1px 2px rgba(60, 64, 67, 0.3), 0px 1px 3px 1px rgba(60, 64, 67, 0.15);\n",
       "      fill: #174EA6;\n",
       "    }\n",
       "\n",
       "    [theme=dark] .colab-df-convert {\n",
       "      background-color: #3B4455;\n",
       "      fill: #D2E3FC;\n",
       "    }\n",
       "\n",
       "    [theme=dark] .colab-df-convert:hover {\n",
       "      background-color: #434B5C;\n",
       "      box-shadow: 0px 1px 3px 1px rgba(0, 0, 0, 0.15);\n",
       "      filter: drop-shadow(0px 1px 2px rgba(0, 0, 0, 0.3));\n",
       "      fill: #FFFFFF;\n",
       "    }\n",
       "  </style>\n",
       "\n",
       "      <script>\n",
       "        const buttonEl =\n",
       "          document.querySelector('#df-aa14966b-fe6f-49cc-a6ad-b874a7477440 button.colab-df-convert');\n",
       "        buttonEl.style.display =\n",
       "          google.colab.kernel.accessAllowed ? 'block' : 'none';\n",
       "\n",
       "        async function convertToInteractive(key) {\n",
       "          const element = document.querySelector('#df-aa14966b-fe6f-49cc-a6ad-b874a7477440');\n",
       "          const dataTable =\n",
       "            await google.colab.kernel.invokeFunction('convertToInteractive',\n",
       "                                                     [key], {});\n",
       "          if (!dataTable) return;\n",
       "\n",
       "          const docLinkHtml = 'Like what you see? Visit the ' +\n",
       "            '<a target=\"_blank\" href=https://colab.research.google.com/notebooks/data_table.ipynb>data table notebook</a>'\n",
       "            + ' to learn more about interactive tables.';\n",
       "          element.innerHTML = '';\n",
       "          dataTable['output_type'] = 'display_data';\n",
       "          await google.colab.output.renderOutput(dataTable, element);\n",
       "          const docLink = document.createElement('div');\n",
       "          docLink.innerHTML = docLinkHtml;\n",
       "          element.appendChild(docLink);\n",
       "        }\n",
       "      </script>\n",
       "    </div>\n",
       "  </div>\n",
       "  "
      ],
      "text/plain": [
       "       Sepal_Length  Sepal_Width  Petal_Length  Petal_Width       Class\n",
       "count    150.000000   150.000000    150.000000   150.000000  150.000000\n",
       "mean       5.843333     3.054000      3.758667     1.198667    1.000000\n",
       "std        0.828066     0.433594      1.764420     0.763161    0.819232\n",
       "min        4.300000     2.000000      1.000000     0.100000    0.000000\n",
       "25%        5.100000     2.800000      1.600000     0.300000    0.000000\n",
       "50%        5.800000     3.000000      4.350000     1.300000    1.000000\n",
       "75%        6.400000     3.300000      5.100000     1.800000    2.000000\n",
       "max        7.900000     4.400000      6.900000     2.500000    2.000000"
      ]
     },
     "execution_count": 65,
     "metadata": {},
     "output_type": "execute_result"
    }
   ],
   "source": [
    "iris_df.describe()"
   ]
  },
  {
   "cell_type": "code",
   "execution_count": 66,
   "metadata": {
    "colab": {
     "base_uri": "https://localhost:8080/"
    },
    "executionInfo": {
     "elapsed": 31,
     "status": "ok",
     "timestamp": 1666359085723,
     "user": {
      "displayName": "Nitansh Jain",
      "userId": "16132165384365515816"
     },
     "user_tz": -330
    },
    "id": "XG5DFUATR3S2",
    "outputId": "c5830829-000c-4659-a888-82318d786a7e"
   },
   "outputs": [
    {
     "name": "stdout",
     "output_type": "stream",
     "text": [
      "(120, 4)\n",
      "(120,)\n",
      "(30, 4)\n",
      "(30,)\n"
     ]
    }
   ],
   "source": [
    "from sklearn.model_selection import train_test_split\n",
    "X = iris_df.iloc[:,0:4]\n",
    "Y = iris_df.iloc[:,4]\n",
    "\n",
    "x_train, x_test, y_train, y_test = train_test_split(X, Y, test_size=0.2, random_state=42)\n",
    "print(x_train.shape)\n",
    "print(y_train.shape)\n",
    "print(x_test.shape)\n",
    "print(y_test.shape)"
   ]
  },
  {
   "cell_type": "code",
   "execution_count": 67,
   "metadata": {
    "colab": {
     "base_uri": "https://localhost:8080/"
    },
    "executionInfo": {
     "elapsed": 24,
     "status": "ok",
     "timestamp": 1666359085724,
     "user": {
      "displayName": "Nitansh Jain",
      "userId": "16132165384365515816"
     },
     "user_tz": -330
    },
    "id": "iQIrB4tySfXB",
    "outputId": "e796c598-4e15-421b-d6bc-0bddfefa5f90"
   },
   "outputs": [
    {
     "name": "stdout",
     "output_type": "stream",
     "text": [
      "120\n",
      "{0: 0.3333333333333333, 1: 0.3416666666666667, 2: 0.325}\n"
     ]
    }
   ],
   "source": [
    "train_size = x_train.shape[0]\n",
    "class_priors = dict()\n",
    "print(train_size)\n",
    "for outcome in np.unique(y_train):\n",
    "    # print(outcome)n\n",
    "    outcome_count = sum(y_train==outcome)\n",
    "    # print(outcome_count)\n",
    "    # print(outcome)\n",
    "    # print(class_priors)\n",
    "    class_priors[outcome] = outcome_count / train_size\n",
    "print(class_priors) "
   ]
  },
  {
   "cell_type": "code",
   "execution_count": 68,
   "metadata": {
    "executionInfo": {
     "elapsed": 639,
     "status": "ok",
     "timestamp": 1666359086346,
     "user": {
      "displayName": "Nitansh Jain",
      "userId": "16132165384365515816"
     },
     "user_tz": -330
    },
    "id": "Q7mdIhr_XcWP"
   },
   "outputs": [],
   "source": [
    "features = list(x_train.columns) \n",
    "likelihoods = dict()\n",
    "# print(features)\n",
    "\n",
    "for outcome in np.unique(y_train):\n",
    "    outcome_count = sum(y_train==outcome)\n",
    "    # print(outcome_count)\n",
    "    for feature in features:\n",
    "        # print('feature = ', feature)\n",
    "        for feat_value in np.unique(x_train[feature]):\n",
    "            # print('feat_value = ', feat_value)\n",
    "            # print('outcome_count = ', outcome_count)\n",
    "            count = 0 \n",
    "            for i in x_train.index:\n",
    "\n",
    "                if (x_train[feature][i]==feat_value and y_train[i]==outcome):\n",
    "                    count+=1\n",
    "            # print(count)\n",
    "            likelihoods[(feature,feat_value,outcome)]=(count+1)/(outcome_count+(len(features)))\n"
   ]
  },
  {
   "cell_type": "code",
   "execution_count": 69,
   "metadata": {
    "colab": {
     "base_uri": "https://localhost:8080/"
    },
    "executionInfo": {
     "elapsed": 83,
     "status": "ok",
     "timestamp": 1666359086347,
     "user": {
      "displayName": "Nitansh Jain",
      "userId": "16132165384365515816"
     },
     "user_tz": -330
    },
    "id": "5ck0taQRlvSQ",
    "outputId": "48ca2754-f30d-441a-e29c-03cb0485054c"
   },
   "outputs": [
    {
     "name": "stdout",
     "output_type": "stream",
     "text": [
      "{('Sepal_Length', 4.3, 0): 0.045454545454545456, ('Sepal_Length', 4.4, 0): 0.09090909090909091, ('Sepal_Length', 4.5, 0): 0.045454545454545456, ('Sepal_Length', 4.6, 0): 0.11363636363636363, ('Sepal_Length', 4.7, 0): 0.045454545454545456, ('Sepal_Length', 4.8, 0): 0.06818181818181818, ('Sepal_Length', 4.9, 0): 0.09090909090909091, ('Sepal_Length', 5.0, 0): 0.18181818181818182, ('Sepal_Length', 5.1, 0): 0.18181818181818182, ('Sepal_Length', 5.2, 0): 0.09090909090909091, ('Sepal_Length', 5.3, 0): 0.045454545454545456, ('Sepal_Length', 5.4, 0): 0.11363636363636363, ('Sepal_Length', 5.5, 0): 0.045454545454545456, ('Sepal_Length', 5.6, 0): 0.022727272727272728, ('Sepal_Length', 5.7, 0): 0.045454545454545456, ('Sepal_Length', 5.8, 0): 0.045454545454545456, ('Sepal_Length', 5.9, 0): 0.022727272727272728, ('Sepal_Length', 6.0, 0): 0.022727272727272728, ('Sepal_Length', 6.1, 0): 0.022727272727272728, ('Sepal_Length', 6.2, 0): 0.022727272727272728, ('Sepal_Length', 6.3, 0): 0.022727272727272728, ('Sepal_Length', 6.4, 0): 0.022727272727272728, ('Sepal_Length', 6.5, 0): 0.022727272727272728, ('Sepal_Length', 6.6, 0): 0.022727272727272728, ('Sepal_Length', 6.7, 0): 0.022727272727272728, ('Sepal_Length', 6.8, 0): 0.022727272727272728, ('Sepal_Length', 6.9, 0): 0.022727272727272728, ('Sepal_Length', 7.0, 0): 0.022727272727272728, ('Sepal_Length', 7.1, 0): 0.022727272727272728, ('Sepal_Length', 7.2, 0): 0.022727272727272728, ('Sepal_Length', 7.3, 0): 0.022727272727272728, ('Sepal_Length', 7.4, 0): 0.022727272727272728, ('Sepal_Length', 7.6, 0): 0.022727272727272728, ('Sepal_Length', 7.7, 0): 0.022727272727272728, ('Sepal_Width', 2.0, 0): 0.022727272727272728, ('Sepal_Width', 2.2, 0): 0.022727272727272728, ('Sepal_Width', 2.3, 0): 0.045454545454545456, ('Sepal_Width', 2.4, 0): 0.022727272727272728, ('Sepal_Width', 2.5, 0): 0.022727272727272728, ('Sepal_Width', 2.6, 0): 0.022727272727272728, ('Sepal_Width', 2.7, 0): 0.022727272727272728, ('Sepal_Width', 2.8, 0): 0.022727272727272728, ('Sepal_Width', 2.9, 0): 0.045454545454545456, ('Sepal_Width', 3.0, 0): 0.11363636363636363, ('Sepal_Width', 3.1, 0): 0.09090909090909091, ('Sepal_Width', 3.2, 0): 0.11363636363636363, ('Sepal_Width', 3.3, 0): 0.06818181818181818, ('Sepal_Width', 3.4, 0): 0.18181818181818182, ('Sepal_Width', 3.5, 0): 0.13636363636363635, ('Sepal_Width', 3.6, 0): 0.06818181818181818, ('Sepal_Width', 3.7, 0): 0.09090909090909091, ('Sepal_Width', 3.8, 0): 0.06818181818181818, ('Sepal_Width', 3.9, 0): 0.06818181818181818, ('Sepal_Width', 4.0, 0): 0.045454545454545456, ('Sepal_Width', 4.1, 0): 0.045454545454545456, ('Sepal_Width', 4.2, 0): 0.045454545454545456, ('Sepal_Width', 4.4, 0): 0.045454545454545456, ('Petal_Length', 1.0, 0): 0.045454545454545456, ('Petal_Length', 1.1, 0): 0.045454545454545456, ('Petal_Length', 1.2, 0): 0.06818181818181818, ('Petal_Length', 1.3, 0): 0.1590909090909091, ('Petal_Length', 1.4, 0): 0.25, ('Petal_Length', 1.5, 0): 0.2727272727272727, ('Petal_Length', 1.6, 0): 0.11363636363636363, ('Petal_Length', 1.7, 0): 0.09090909090909091, ('Petal_Length', 1.9, 0): 0.06818181818181818, ('Petal_Length', 3.0, 0): 0.022727272727272728, ('Petal_Length', 3.3, 0): 0.022727272727272728, ('Petal_Length', 3.5, 0): 0.022727272727272728, ('Petal_Length', 3.7, 0): 0.022727272727272728, ('Petal_Length', 3.8, 0): 0.022727272727272728, ('Petal_Length', 3.9, 0): 0.022727272727272728, ('Petal_Length', 4.0, 0): 0.022727272727272728, ('Petal_Length', 4.1, 0): 0.022727272727272728, ('Petal_Length', 4.2, 0): 0.022727272727272728, ('Petal_Length', 4.3, 0): 0.022727272727272728, ('Petal_Length', 4.4, 0): 0.022727272727272728, ('Petal_Length', 4.5, 0): 0.022727272727272728, ('Petal_Length', 4.6, 0): 0.022727272727272728, ('Petal_Length', 4.7, 0): 0.022727272727272728, ('Petal_Length', 4.8, 0): 0.022727272727272728, ('Petal_Length', 4.9, 0): 0.022727272727272728, ('Petal_Length', 5.0, 0): 0.022727272727272728, ('Petal_Length', 5.1, 0): 0.022727272727272728, ('Petal_Length', 5.2, 0): 0.022727272727272728, ('Petal_Length', 5.3, 0): 0.022727272727272728, ('Petal_Length', 5.4, 0): 0.022727272727272728, ('Petal_Length', 5.5, 0): 0.022727272727272728, ('Petal_Length', 5.6, 0): 0.022727272727272728, ('Petal_Length', 5.7, 0): 0.022727272727272728, ('Petal_Length', 5.8, 0): 0.022727272727272728, ('Petal_Length', 5.9, 0): 0.022727272727272728, ('Petal_Length', 6.0, 0): 0.022727272727272728, ('Petal_Length', 6.1, 0): 0.022727272727272728, ('Petal_Length', 6.3, 0): 0.022727272727272728, ('Petal_Length', 6.6, 0): 0.022727272727272728, ('Petal_Length', 6.7, 0): 0.022727272727272728, ('Petal_Width', 0.1, 0): 0.11363636363636363, ('Petal_Width', 0.2, 0): 0.5909090909090909, ('Petal_Width', 0.3, 0): 0.11363636363636363, ('Petal_Width', 0.4, 0): 0.13636363636363635, ('Petal_Width', 0.5, 0): 0.045454545454545456, ('Petal_Width', 0.6, 0): 0.045454545454545456, ('Petal_Width', 1.0, 0): 0.022727272727272728, ('Petal_Width', 1.1, 0): 0.022727272727272728, ('Petal_Width', 1.2, 0): 0.022727272727272728, ('Petal_Width', 1.3, 0): 0.022727272727272728, ('Petal_Width', 1.4, 0): 0.022727272727272728, ('Petal_Width', 1.5, 0): 0.022727272727272728, ('Petal_Width', 1.6, 0): 0.022727272727272728, ('Petal_Width', 1.7, 0): 0.022727272727272728, ('Petal_Width', 1.8, 0): 0.022727272727272728, ('Petal_Width', 1.9, 0): 0.022727272727272728, ('Petal_Width', 2.0, 0): 0.022727272727272728, ('Petal_Width', 2.1, 0): 0.022727272727272728, ('Petal_Width', 2.2, 0): 0.022727272727272728, ('Petal_Width', 2.3, 0): 0.022727272727272728, ('Petal_Width', 2.4, 0): 0.022727272727272728, ('Petal_Width', 2.5, 0): 0.022727272727272728, ('Sepal_Length', 4.3, 1): 0.022222222222222223, ('Sepal_Length', 4.4, 1): 0.022222222222222223, ('Sepal_Length', 4.5, 1): 0.022222222222222223, ('Sepal_Length', 4.6, 1): 0.022222222222222223, ('Sepal_Length', 4.7, 1): 0.022222222222222223, ('Sepal_Length', 4.8, 1): 0.022222222222222223, ('Sepal_Length', 4.9, 1): 0.044444444444444446, ('Sepal_Length', 5.0, 1): 0.06666666666666667, ('Sepal_Length', 5.1, 1): 0.044444444444444446, ('Sepal_Length', 5.2, 1): 0.044444444444444446, ('Sepal_Length', 5.3, 1): 0.022222222222222223, ('Sepal_Length', 5.4, 1): 0.044444444444444446, ('Sepal_Length', 5.5, 1): 0.13333333333333333, ('Sepal_Length', 5.6, 1): 0.08888888888888889, ('Sepal_Length', 5.7, 1): 0.1111111111111111, ('Sepal_Length', 5.8, 1): 0.06666666666666667, ('Sepal_Length', 5.9, 1): 0.06666666666666667, ('Sepal_Length', 6.0, 1): 0.08888888888888889, ('Sepal_Length', 6.1, 1): 0.08888888888888889, ('Sepal_Length', 6.2, 1): 0.044444444444444446, ('Sepal_Length', 6.3, 1): 0.06666666666666667, ('Sepal_Length', 6.4, 1): 0.06666666666666667, ('Sepal_Length', 6.5, 1): 0.044444444444444446, ('Sepal_Length', 6.6, 1): 0.06666666666666667, ('Sepal_Length', 6.7, 1): 0.08888888888888889, ('Sepal_Length', 6.8, 1): 0.022222222222222223, ('Sepal_Length', 6.9, 1): 0.044444444444444446, ('Sepal_Length', 7.0, 1): 0.044444444444444446, ('Sepal_Length', 7.1, 1): 0.022222222222222223, ('Sepal_Length', 7.2, 1): 0.022222222222222223, ('Sepal_Length', 7.3, 1): 0.022222222222222223, ('Sepal_Length', 7.4, 1): 0.022222222222222223, ('Sepal_Length', 7.6, 1): 0.022222222222222223, ('Sepal_Length', 7.7, 1): 0.022222222222222223, ('Sepal_Width', 2.0, 1): 0.044444444444444446, ('Sepal_Width', 2.2, 1): 0.044444444444444446, ('Sepal_Width', 2.3, 1): 0.08888888888888889, ('Sepal_Width', 2.4, 1): 0.08888888888888889, ('Sepal_Width', 2.5, 1): 0.08888888888888889, ('Sepal_Width', 2.6, 1): 0.08888888888888889, ('Sepal_Width', 2.7, 1): 0.1111111111111111, ('Sepal_Width', 2.8, 1): 0.08888888888888889, ('Sepal_Width', 2.9, 1): 0.13333333333333333, ('Sepal_Width', 3.0, 1): 0.2, ('Sepal_Width', 3.1, 1): 0.08888888888888889, ('Sepal_Width', 3.2, 1): 0.08888888888888889, ('Sepal_Width', 3.3, 1): 0.022222222222222223, ('Sepal_Width', 3.4, 1): 0.044444444444444446, ('Sepal_Width', 3.5, 1): 0.022222222222222223, ('Sepal_Width', 3.6, 1): 0.022222222222222223, ('Sepal_Width', 3.7, 1): 0.022222222222222223, ('Sepal_Width', 3.8, 1): 0.022222222222222223, ('Sepal_Width', 3.9, 1): 0.022222222222222223, ('Sepal_Width', 4.0, 1): 0.022222222222222223, ('Sepal_Width', 4.1, 1): 0.022222222222222223, ('Sepal_Width', 4.2, 1): 0.022222222222222223, ('Sepal_Width', 4.4, 1): 0.022222222222222223, ('Petal_Length', 1.0, 1): 0.022222222222222223, ('Petal_Length', 1.1, 1): 0.022222222222222223, ('Petal_Length', 1.2, 1): 0.022222222222222223, ('Petal_Length', 1.3, 1): 0.022222222222222223, ('Petal_Length', 1.4, 1): 0.022222222222222223, ('Petal_Length', 1.5, 1): 0.022222222222222223, ('Petal_Length', 1.6, 1): 0.022222222222222223, ('Petal_Length', 1.7, 1): 0.022222222222222223, ('Petal_Length', 1.9, 1): 0.022222222222222223, ('Petal_Length', 3.0, 1): 0.044444444444444446, ('Petal_Length', 3.3, 1): 0.06666666666666667, ('Petal_Length', 3.5, 1): 0.06666666666666667, ('Petal_Length', 3.7, 1): 0.044444444444444446, ('Petal_Length', 3.8, 1): 0.044444444444444446, ('Petal_Length', 3.9, 1): 0.044444444444444446, ('Petal_Length', 4.0, 1): 0.13333333333333333, ('Petal_Length', 4.1, 1): 0.08888888888888889, ('Petal_Length', 4.2, 1): 0.1111111111111111, ('Petal_Length', 4.3, 1): 0.06666666666666667, ('Petal_Length', 4.4, 1): 0.1111111111111111, ('Petal_Length', 4.5, 1): 0.1111111111111111, ('Petal_Length', 4.6, 1): 0.08888888888888889, ('Petal_Length', 4.7, 1): 0.08888888888888889, ('Petal_Length', 4.8, 1): 0.044444444444444446, ('Petal_Length', 4.9, 1): 0.06666666666666667, ('Petal_Length', 5.0, 1): 0.044444444444444446, ('Petal_Length', 5.1, 1): 0.044444444444444446, ('Petal_Length', 5.2, 1): 0.022222222222222223, ('Petal_Length', 5.3, 1): 0.022222222222222223, ('Petal_Length', 5.4, 1): 0.022222222222222223, ('Petal_Length', 5.5, 1): 0.022222222222222223, ('Petal_Length', 5.6, 1): 0.022222222222222223, ('Petal_Length', 5.7, 1): 0.022222222222222223, ('Petal_Length', 5.8, 1): 0.022222222222222223, ('Petal_Length', 5.9, 1): 0.022222222222222223, ('Petal_Length', 6.0, 1): 0.022222222222222223, ('Petal_Length', 6.1, 1): 0.022222222222222223, ('Petal_Length', 6.3, 1): 0.022222222222222223, ('Petal_Length', 6.6, 1): 0.022222222222222223, ('Petal_Length', 6.7, 1): 0.022222222222222223, ('Petal_Width', 0.1, 1): 0.022222222222222223, ('Petal_Width', 0.2, 1): 0.022222222222222223, ('Petal_Width', 0.3, 1): 0.022222222222222223, ('Petal_Width', 0.4, 1): 0.022222222222222223, ('Petal_Width', 0.5, 1): 0.022222222222222223, ('Petal_Width', 0.6, 1): 0.022222222222222223, ('Petal_Width', 1.0, 1): 0.17777777777777778, ('Petal_Width', 1.1, 1): 0.06666666666666667, ('Petal_Width', 1.2, 1): 0.08888888888888889, ('Petal_Width', 1.3, 1): 0.26666666666666666, ('Petal_Width', 1.4, 1): 0.15555555555555556, ('Petal_Width', 1.5, 1): 0.2, ('Petal_Width', 1.6, 1): 0.06666666666666667, ('Petal_Width', 1.7, 1): 0.044444444444444446, ('Petal_Width', 1.8, 1): 0.044444444444444446, ('Petal_Width', 1.9, 1): 0.022222222222222223, ('Petal_Width', 2.0, 1): 0.022222222222222223, ('Petal_Width', 2.1, 1): 0.022222222222222223, ('Petal_Width', 2.2, 1): 0.022222222222222223, ('Petal_Width', 2.3, 1): 0.022222222222222223, ('Petal_Width', 2.4, 1): 0.022222222222222223, ('Petal_Width', 2.5, 1): 0.022222222222222223, ('Sepal_Length', 4.3, 2): 0.023255813953488372, ('Sepal_Length', 4.4, 2): 0.023255813953488372, ('Sepal_Length', 4.5, 2): 0.023255813953488372, ('Sepal_Length', 4.6, 2): 0.023255813953488372, ('Sepal_Length', 4.7, 2): 0.023255813953488372, ('Sepal_Length', 4.8, 2): 0.023255813953488372, ('Sepal_Length', 4.9, 2): 0.046511627906976744, ('Sepal_Length', 5.0, 2): 0.023255813953488372, ('Sepal_Length', 5.1, 2): 0.023255813953488372, ('Sepal_Length', 5.2, 2): 0.023255813953488372, ('Sepal_Length', 5.3, 2): 0.023255813953488372, ('Sepal_Length', 5.4, 2): 0.023255813953488372, ('Sepal_Length', 5.5, 2): 0.023255813953488372, ('Sepal_Length', 5.6, 2): 0.046511627906976744, ('Sepal_Length', 5.7, 2): 0.046511627906976744, ('Sepal_Length', 5.8, 2): 0.09302325581395349, ('Sepal_Length', 5.9, 2): 0.046511627906976744, ('Sepal_Length', 6.0, 2): 0.06976744186046512, ('Sepal_Length', 6.1, 2): 0.046511627906976744, ('Sepal_Length', 6.2, 2): 0.06976744186046512, ('Sepal_Length', 6.3, 2): 0.16279069767441862, ('Sepal_Length', 6.4, 2): 0.09302325581395349, ('Sepal_Length', 6.5, 2): 0.06976744186046512, ('Sepal_Length', 6.6, 2): 0.023255813953488372, ('Sepal_Length', 6.7, 2): 0.09302325581395349, ('Sepal_Length', 6.8, 2): 0.046511627906976744, ('Sepal_Length', 6.9, 2): 0.06976744186046512, ('Sepal_Length', 7.0, 2): 0.023255813953488372, ('Sepal_Length', 7.1, 2): 0.046511627906976744, ('Sepal_Length', 7.2, 2): 0.09302325581395349, ('Sepal_Length', 7.3, 2): 0.046511627906976744, ('Sepal_Length', 7.4, 2): 0.046511627906976744, ('Sepal_Length', 7.6, 2): 0.046511627906976744, ('Sepal_Length', 7.7, 2): 0.09302325581395349, ('Sepal_Width', 2.0, 2): 0.023255813953488372, ('Sepal_Width', 2.2, 2): 0.046511627906976744, ('Sepal_Width', 2.3, 2): 0.023255813953488372, ('Sepal_Width', 2.4, 2): 0.023255813953488372, ('Sepal_Width', 2.5, 2): 0.09302325581395349, ('Sepal_Width', 2.6, 2): 0.046511627906976744, ('Sepal_Width', 2.7, 2): 0.11627906976744186, ('Sepal_Width', 2.8, 2): 0.16279069767441862, ('Sepal_Width', 2.9, 2): 0.06976744186046512, ('Sepal_Width', 3.0, 2): 0.23255813953488372, ('Sepal_Width', 3.1, 2): 0.09302325581395349, ('Sepal_Width', 3.2, 2): 0.09302325581395349, ('Sepal_Width', 3.3, 2): 0.09302325581395349, ('Sepal_Width', 3.4, 2): 0.06976744186046512, ('Sepal_Width', 3.5, 2): 0.023255813953488372, ('Sepal_Width', 3.6, 2): 0.046511627906976744, ('Sepal_Width', 3.7, 2): 0.023255813953488372, ('Sepal_Width', 3.8, 2): 0.046511627906976744, ('Sepal_Width', 3.9, 2): 0.023255813953488372, ('Sepal_Width', 4.0, 2): 0.023255813953488372, ('Sepal_Width', 4.1, 2): 0.023255813953488372, ('Sepal_Width', 4.2, 2): 0.023255813953488372, ('Sepal_Width', 4.4, 2): 0.023255813953488372, ('Petal_Length', 1.0, 2): 0.023255813953488372, ('Petal_Length', 1.1, 2): 0.023255813953488372, ('Petal_Length', 1.2, 2): 0.023255813953488372, ('Petal_Length', 1.3, 2): 0.023255813953488372, ('Petal_Length', 1.4, 2): 0.023255813953488372, ('Petal_Length', 1.5, 2): 0.023255813953488372, ('Petal_Length', 1.6, 2): 0.023255813953488372, ('Petal_Length', 1.7, 2): 0.023255813953488372, ('Petal_Length', 1.9, 2): 0.023255813953488372, ('Petal_Length', 3.0, 2): 0.023255813953488372, ('Petal_Length', 3.3, 2): 0.023255813953488372, ('Petal_Length', 3.5, 2): 0.023255813953488372, ('Petal_Length', 3.7, 2): 0.023255813953488372, ('Petal_Length', 3.8, 2): 0.023255813953488372, ('Petal_Length', 3.9, 2): 0.023255813953488372, ('Petal_Length', 4.0, 2): 0.023255813953488372, ('Petal_Length', 4.1, 2): 0.023255813953488372, ('Petal_Length', 4.2, 2): 0.023255813953488372, ('Petal_Length', 4.3, 2): 0.023255813953488372, ('Petal_Length', 4.4, 2): 0.023255813953488372, ('Petal_Length', 4.5, 2): 0.046511627906976744, ('Petal_Length', 4.6, 2): 0.023255813953488372, ('Petal_Length', 4.7, 2): 0.023255813953488372, ('Petal_Length', 4.8, 2): 0.06976744186046512, ('Petal_Length', 4.9, 2): 0.06976744186046512, ('Petal_Length', 5.0, 2): 0.09302325581395349, ('Petal_Length', 5.1, 2): 0.13953488372093023, ('Petal_Length', 5.2, 2): 0.046511627906976744, ('Petal_Length', 5.3, 2): 0.06976744186046512, ('Petal_Length', 5.4, 2): 0.06976744186046512, ('Petal_Length', 5.5, 2): 0.09302325581395349, ('Petal_Length', 5.6, 2): 0.11627906976744186, ('Petal_Length', 5.7, 2): 0.09302325581395349, ('Petal_Length', 5.8, 2): 0.046511627906976744, ('Petal_Length', 5.9, 2): 0.046511627906976744, ('Petal_Length', 6.0, 2): 0.06976744186046512, ('Petal_Length', 6.1, 2): 0.09302325581395349, ('Petal_Length', 6.3, 2): 0.046511627906976744, ('Petal_Length', 6.6, 2): 0.046511627906976744, ('Petal_Length', 6.7, 2): 0.06976744186046512, ('Petal_Width', 0.1, 2): 0.023255813953488372, ('Petal_Width', 0.2, 2): 0.023255813953488372, ('Petal_Width', 0.3, 2): 0.023255813953488372, ('Petal_Width', 0.4, 2): 0.023255813953488372, ('Petal_Width', 0.5, 2): 0.023255813953488372, ('Petal_Width', 0.6, 2): 0.023255813953488372, ('Petal_Width', 1.0, 2): 0.023255813953488372, ('Petal_Width', 1.1, 2): 0.023255813953488372, ('Petal_Width', 1.2, 2): 0.023255813953488372, ('Petal_Width', 1.3, 2): 0.023255813953488372, ('Petal_Width', 1.4, 2): 0.046511627906976744, ('Petal_Width', 1.5, 2): 0.06976744186046512, ('Petal_Width', 1.6, 2): 0.046511627906976744, ('Petal_Width', 1.7, 2): 0.046511627906976744, ('Petal_Width', 1.8, 2): 0.23255813953488372, ('Petal_Width', 1.9, 2): 0.13953488372093023, ('Petal_Width', 2.0, 2): 0.11627906976744186, ('Petal_Width', 2.1, 2): 0.13953488372093023, ('Petal_Width', 2.2, 2): 0.046511627906976744, ('Petal_Width', 2.3, 2): 0.11627906976744186, ('Petal_Width', 2.4, 2): 0.09302325581395349, ('Petal_Width', 2.5, 2): 0.09302325581395349}\n"
     ]
    }
   ],
   "source": [
    "print(likelihoods)\n"
   ]
  },
  {
   "cell_type": "code",
   "execution_count": 70,
   "metadata": {
    "colab": {
     "base_uri": "https://localhost:8080/"
    },
    "executionInfo": {
     "elapsed": 80,
     "status": "ok",
     "timestamp": 1666359086347,
     "user": {
      "displayName": "Nitansh Jain",
      "userId": "16132165384365515816"
     },
     "user_tz": -330
    },
    "id": "ThUspaPUt0jv",
    "outputId": "6a94ac51-dbf4-4093-b663-b1989719e973"
   },
   "outputs": [
    {
     "name": "stdout",
     "output_type": "stream",
     "text": [
      "357\n"
     ]
    }
   ],
   "source": [
    "print(len(likelihoods))"
   ]
  },
  {
   "cell_type": "code",
   "execution_count": 71,
   "metadata": {
    "colab": {
     "base_uri": "https://localhost:8080/"
    },
    "executionInfo": {
     "elapsed": 71,
     "status": "ok",
     "timestamp": 1666359086348,
     "user": {
      "displayName": "Nitansh Jain",
      "userId": "16132165384365515816"
     },
     "user_tz": -330
    },
    "id": "MusBIF8c8Caq",
    "outputId": "0932ff7b-3a3a-4728-d5be-26c1d5f05317"
   },
   "outputs": [
    {
     "name": "stdout",
     "output_type": "stream",
     "text": [
      "0.09090909090909091\n",
      "0.022222222222222223\n",
      "0.023255813953488372\n"
     ]
    }
   ],
   "source": [
    "print(likelihoods[('Sepal_Length', 4.4, 0)])\n",
    "print(likelihoods[('Sepal_Length', 4.4, 1)])\n",
    "print(likelihoods[('Sepal_Length', 4.4, 2)])"
   ]
  },
  {
   "cell_type": "code",
   "execution_count": 72,
   "metadata": {
    "colab": {
     "base_uri": "https://localhost:8080/"
    },
    "executionInfo": {
     "elapsed": 65,
     "status": "ok",
     "timestamp": 1666359086349,
     "user": {
      "displayName": "Nitansh Jain",
      "userId": "16132165384365515816"
     },
     "user_tz": -330
    },
    "id": "xj2tFXuQsxGR",
    "outputId": "57e221ca-b70e-49c9-8990-981b07c0c992"
   },
   "outputs": [
    {
     "name": "stdout",
     "output_type": "stream",
     "text": [
      "outcome =  0\n",
      "outcome_count =  40\n",
      "outcome =  1\n",
      "outcome_count =  41\n",
      "outcome =  2\n",
      "outcome_count =  39\n"
     ]
    }
   ],
   "source": [
    "a = len(np.unique(y_train))\n",
    "prob =  np.ones((a, len(x_test)), dtype=float)\n",
    "\n",
    "for outcome in (np.unique(y_train)):\n",
    "    print('outcome = ', outcome)\n",
    "    outcome_count = sum(y_train==outcome)\n",
    "    print('outcome_count = ', outcome_count)\n",
    "    for feature in features:\n",
    "        # print('feature = ', feature)\n",
    "        for i in x_test.index:\n",
    "            \n",
    "            if (feature, x_test[feature][i], outcome) in likelihoods.keys():\n",
    "                try:\n",
    "                    prob[outcome][i] = prob[outcome][i] * likelihoods[(feature, x_test[feature][i], outcome)]\n",
    "                except:\n",
    "                    continue\n",
    "            else:\n",
    "                try:\n",
    "                    prob[outcome][i] = prob[outcome][i] * (1/(outcome_count+len(features)))\n",
    "                except:\n",
    "                    continue\n",
    "        "
   ]
  },
  {
   "cell_type": "code",
   "execution_count": 73,
   "metadata": {
    "executionInfo": {
     "elapsed": 58,
     "status": "ok",
     "timestamp": 1666359086349,
     "user": {
      "displayName": "Nitansh Jain",
      "userId": "16132165384365515816"
     },
     "user_tz": -330
    },
    "id": "77uu7D7hZR9S"
   },
   "outputs": [],
   "source": [
    "for i in range(prob.shape[0]):\n",
    "    prob[i][:] = prob[i][:] * class_priors[i]\n",
    "# print(class_priors)\n",
    "# print(prob[0][:])\n",
    "# print(prob[1][:])\n",
    "# print(prob[2][:])\n",
    "\n",
    "y_label = np.zeros(len(y_test))\n",
    "for i in range(len(x_test)):\n",
    "    # print(prob[1,i])\n",
    "    if (prob[0,i] >= prob[1,i]) and (prob[0,i] >= prob[2,i]):\n",
    "        y_label[i] = 0\n",
    "\n",
    "    if (prob[1,i] >= prob[0,i]) and (prob[1,i] >= prob[2,i]):\n",
    "        y_label[i] = 1\n",
    "\n",
    "    if (prob[2,i] >= prob[0,i]) and (prob[2,i] >= prob[1,i]):\n",
    "        y_label[i] = 2"
   ]
  },
  {
   "cell_type": "code",
   "execution_count": 74,
   "metadata": {
    "colab": {
     "base_uri": "https://localhost:8080/"
    },
    "executionInfo": {
     "elapsed": 57,
     "status": "ok",
     "timestamp": 1666359086350,
     "user": {
      "displayName": "Nitansh Jain",
      "userId": "16132165384365515816"
     },
     "user_tz": -330
    },
    "id": "fhw9MFASFuvA",
    "outputId": "04a7727a-e6bc-417c-e185-4d6b967cf89e"
   },
   "outputs": [
    {
     "name": "stdout",
     "output_type": "stream",
     "text": [
      "[0. 1.]\n"
     ]
    }
   ],
   "source": [
    "print(np.unique(y_label))"
   ]
  },
  {
   "cell_type": "code",
   "execution_count": 75,
   "metadata": {
    "colab": {
     "base_uri": "https://localhost:8080/"
    },
    "executionInfo": {
     "elapsed": 50,
     "status": "ok",
     "timestamp": 1666359086350,
     "user": {
      "displayName": "Nitansh Jain",
      "userId": "16132165384365515816"
     },
     "user_tz": -330
    },
    "id": "WqKo1_WHZkke",
    "outputId": "d10b0834-d52f-4def-ef4d-fd3a7a7e0529"
   },
   "outputs": [
    {
     "name": "stdout",
     "output_type": "stream",
     "text": [
      "              precision    recall  f1-score   support\n",
      "\n",
      "           0       0.33      0.20      0.25        10\n",
      "           1       0.29      0.78      0.42         9\n",
      "           2       0.00      0.00      0.00        11\n",
      "\n",
      "    accuracy                           0.30        30\n",
      "   macro avg       0.21      0.33      0.22        30\n",
      "weighted avg       0.20      0.30      0.21        30\n",
      "\n",
      "[[2 8 0]\n",
      " [2 7 0]\n",
      " [2 9 0]]\n"
     ]
    },
    {
     "name": "stderr",
     "output_type": "stream",
     "text": [
      "/usr/local/lib/python3.7/dist-packages/sklearn/metrics/_classification.py:1318: UndefinedMetricWarning: Precision and F-score are ill-defined and being set to 0.0 in labels with no predicted samples. Use `zero_division` parameter to control this behavior.\n",
      "  _warn_prf(average, modifier, msg_start, len(result))\n",
      "/usr/local/lib/python3.7/dist-packages/sklearn/metrics/_classification.py:1318: UndefinedMetricWarning: Precision and F-score are ill-defined and being set to 0.0 in labels with no predicted samples. Use `zero_division` parameter to control this behavior.\n",
      "  _warn_prf(average, modifier, msg_start, len(result))\n",
      "/usr/local/lib/python3.7/dist-packages/sklearn/metrics/_classification.py:1318: UndefinedMetricWarning: Precision and F-score are ill-defined and being set to 0.0 in labels with no predicted samples. Use `zero_division` parameter to control this behavior.\n",
      "  _warn_prf(average, modifier, msg_start, len(result))\n"
     ]
    }
   ],
   "source": [
    "from sklearn import metrics\n",
    "print(metrics.classification_report(y_test,y_label)) \n",
    "print(metrics.confusion_matrix(y_test,y_label))"
   ]
  },
  {
   "cell_type": "code",
   "execution_count": 76,
   "metadata": {
    "executionInfo": {
     "elapsed": 44,
     "status": "ok",
     "timestamp": 1666359086351,
     "user": {
      "displayName": "Nitansh Jain",
      "userId": "16132165384365515816"
     },
     "user_tz": -330
    },
    "id": "Y46S1vdTZyBO"
   },
   "outputs": [],
   "source": [
    "from sklearn.naive_bayes import GaussianNB\n",
    "clf = GaussianNB()\n",
    "clf.fit(x_train, y_train)\n",
    "y_label = clf.predict(x_test)"
   ]
  },
  {
   "cell_type": "code",
   "execution_count": 77,
   "metadata": {
    "colab": {
     "base_uri": "https://localhost:8080/"
    },
    "executionInfo": {
     "elapsed": 43,
     "status": "ok",
     "timestamp": 1666359086351,
     "user": {
      "displayName": "Nitansh Jain",
      "userId": "16132165384365515816"
     },
     "user_tz": -330
    },
    "id": "RlVkwL8raXzE",
    "outputId": "5ebd167c-a71e-4a50-ee65-fe3ba8a0be14"
   },
   "outputs": [
    {
     "name": "stdout",
     "output_type": "stream",
     "text": [
      "              precision    recall  f1-score   support\n",
      "\n",
      "           0       1.00      1.00      1.00        10\n",
      "           1       1.00      1.00      1.00         9\n",
      "           2       1.00      1.00      1.00        11\n",
      "\n",
      "    accuracy                           1.00        30\n",
      "   macro avg       1.00      1.00      1.00        30\n",
      "weighted avg       1.00      1.00      1.00        30\n",
      "\n",
      "[[10  0  0]\n",
      " [ 0  9  0]\n",
      " [ 0  0 11]]\n"
     ]
    }
   ],
   "source": [
    "from sklearn import metrics\n",
    "print(metrics.classification_report(y_test,y_label)) \n",
    "print(metrics.confusion_matrix(y_test,y_label))"
   ]
  },
  {
   "cell_type": "code",
   "execution_count": 79,
   "metadata": {
    "executionInfo": {
     "elapsed": 35,
     "status": "ok",
     "timestamp": 1666359086352,
     "user": {
      "displayName": "Nitansh Jain",
      "userId": "16132165384365515816"
     },
     "user_tz": -330
    },
    "id": "VmQ7K_Ufaa4-"
   },
   "outputs": [],
   "source": [
    "import numpy as np\n",
    "import heapq\n",
    "import scipy\n",
    "\n",
    "y_label=[]\n",
    "for i in x_test.index:\n",
    "    x = np.array(x_test.loc[i]).reshape(1,-1)\n",
    "    # print(np.array(x_test.loc[i]).reshape(1,-1))\n",
    "    ary = scipy.spatial.distance.cdist(x_train, x, metric='euclidean') \n",
    "    # # print(ary)\n",
    "    indx = heapq.nsmallest(11, range(len(ary)), ary.take) \n",
    "    # # print(indx)\n",
    "    y_neighbors=[]\n",
    "    for k in range(len(indx)):\n",
    "        try:\n",
    "            y_neighbors.append(y_train[indx[k]]) \n",
    "        except:\n",
    "            continue\n",
    "    y_label.append(max(set(y_neighbors), key = y_neighbors.count))\n",
    "    \n",
    "# print(len(ary))\n",
    "# print(len(indx))\n"
   ]
  },
  {
   "cell_type": "code",
   "execution_count": 80,
   "metadata": {
    "colab": {
     "base_uri": "https://localhost:8080/"
    },
    "executionInfo": {
     "elapsed": 35,
     "status": "ok",
     "timestamp": 1666359086353,
     "user": {
      "displayName": "Nitansh Jain",
      "userId": "16132165384365515816"
     },
     "user_tz": -330
    },
    "id": "7hT6i5H6FkZw",
    "outputId": "0bc600ae-b9eb-4773-e80c-61a29b671064"
   },
   "outputs": [
    {
     "data": {
      "text/plain": [
       "(30,)"
      ]
     },
     "execution_count": 80,
     "metadata": {},
     "output_type": "execute_result"
    }
   ],
   "source": [
    "y_test.shape"
   ]
  },
  {
   "cell_type": "code",
   "execution_count": 81,
   "metadata": {
    "colab": {
     "base_uri": "https://localhost:8080/"
    },
    "executionInfo": {
     "elapsed": 28,
     "status": "ok",
     "timestamp": 1666359086353,
     "user": {
      "displayName": "Nitansh Jain",
      "userId": "16132165384365515816"
     },
     "user_tz": -330
    },
    "id": "IbjFeQzuFmLg",
    "outputId": "c3d030e6-4bf6-44be-e31a-12645ec1f6e6"
   },
   "outputs": [
    {
     "data": {
      "text/plain": [
       "30"
      ]
     },
     "execution_count": 81,
     "metadata": {},
     "output_type": "execute_result"
    }
   ],
   "source": [
    "len(y_label)"
   ]
  },
  {
   "cell_type": "code",
   "execution_count": 82,
   "metadata": {
    "executionInfo": {
     "elapsed": 22,
     "status": "ok",
     "timestamp": 1666359086353,
     "user": {
      "displayName": "Nitansh Jain",
      "userId": "16132165384365515816"
     },
     "user_tz": -330
    },
    "id": "Ef06iKi3Fq-V"
   },
   "outputs": [],
   "source": [
    "# y_label"
   ]
  },
  {
   "cell_type": "code",
   "execution_count": 83,
   "metadata": {
    "colab": {
     "base_uri": "https://localhost:8080/"
    },
    "executionInfo": {
     "elapsed": 22,
     "status": "ok",
     "timestamp": 1666359086354,
     "user": {
      "displayName": "Nitansh Jain",
      "userId": "16132165384365515816"
     },
     "user_tz": -330
    },
    "id": "HChIhWwpa2rn",
    "outputId": "fb5bf02e-15de-49d2-f7c3-a9a5c61b059d"
   },
   "outputs": [
    {
     "name": "stdout",
     "output_type": "stream",
     "text": [
      "              precision    recall  f1-score   support\n",
      "\n",
      "           0       0.54      0.70      0.61        10\n",
      "           1       0.31      0.56      0.40         9\n",
      "           2       1.00      0.09      0.17        11\n",
      "\n",
      "    accuracy                           0.43        30\n",
      "   macro avg       0.62      0.45      0.39        30\n",
      "weighted avg       0.64      0.43      0.38        30\n",
      "\n",
      "[[7 3 0]\n",
      " [4 5 0]\n",
      " [2 8 1]]\n"
     ]
    }
   ],
   "source": [
    "from sklearn import metrics\n",
    "print(metrics.classification_report(y_test,y_label)) \n",
    "print(metrics.confusion_matrix(y_test,y_label))"
   ]
  },
  {
   "cell_type": "code",
   "execution_count": 84,
   "metadata": {
    "executionInfo": {
     "elapsed": 16,
     "status": "ok",
     "timestamp": 1666359086354,
     "user": {
      "displayName": "Nitansh Jain",
      "userId": "16132165384365515816"
     },
     "user_tz": -330
    },
    "id": "D6UPDzYZnI16"
   },
   "outputs": [],
   "source": [
    "from sklearn.neighbors import KNeighborsClassifier\n",
    "from sklearn.model_selection import GridSearchCV"
   ]
  },
  {
   "cell_type": "code",
   "execution_count": 85,
   "metadata": {
    "colab": {
     "base_uri": "https://localhost:8080/"
    },
    "executionInfo": {
     "elapsed": 3378,
     "status": "ok",
     "timestamp": 1666359089716,
     "user": {
      "displayName": "Nitansh Jain",
      "userId": "16132165384365515816"
     },
     "user_tz": -330
    },
    "id": "PCnDDkKWuI9x",
    "outputId": "447b6034-b9b8-47b5-8d02-49b5bc31ebf9"
   },
   "outputs": [
    {
     "name": "stdout",
     "output_type": "stream",
     "text": [
      "Fitting 10 folds for each of 30 candidates, totalling 300 fits\n"
     ]
    }
   ],
   "source": [
    "knn = KNeighborsClassifier()\n",
    "k_range = list(range(1, 31))\n",
    "param_grid = dict(n_neighbors=k_range)\n",
    "  \n",
    "# defining parameter range\n",
    "grid = GridSearchCV(knn, param_grid, cv=10, scoring='accuracy', return_train_score=False, verbose=1)\n",
    "  \n",
    "# fitting the model for grid search\n",
    "grid_search=grid.fit(x_train, y_train)"
   ]
  },
  {
   "cell_type": "code",
   "execution_count": 86,
   "metadata": {
    "colab": {
     "base_uri": "https://localhost:8080/"
    },
    "executionInfo": {
     "elapsed": 31,
     "status": "ok",
     "timestamp": 1666359089717,
     "user": {
      "displayName": "Nitansh Jain",
      "userId": "16132165384365515816"
     },
     "user_tz": -330
    },
    "id": "Z1AKKVjzuv3D",
    "outputId": "73e8b9be-8028-4387-c7a1-be94413c0b3b"
   },
   "outputs": [
    {
     "name": "stdout",
     "output_type": "stream",
     "text": [
      "{'n_neighbors': 11}\n"
     ]
    }
   ],
   "source": [
    "print(grid_search.best_params_)"
   ]
  },
  {
   "cell_type": "code",
   "execution_count": 87,
   "metadata": {
    "colab": {
     "base_uri": "https://localhost:8080/"
    },
    "executionInfo": {
     "elapsed": 28,
     "status": "ok",
     "timestamp": 1666359089718,
     "user": {
      "displayName": "Nitansh Jain",
      "userId": "16132165384365515816"
     },
     "user_tz": -330
    },
    "id": "0CzEetHxu43Q",
    "outputId": "9430e926-f957-4c7d-fd9b-0cd40329fb1d"
   },
   "outputs": [
    {
     "name": "stdout",
     "output_type": "stream",
     "text": [
      "Accuracy for our training dataset with tuning is : 95.83%\n"
     ]
    }
   ],
   "source": [
    "accuracy = grid_search.best_score_ *100\n",
    "print(\"Accuracy for our training dataset with tuning is : {:.2f}%\".format(accuracy) )"
   ]
  },
  {
   "cell_type": "code",
   "execution_count": 88,
   "metadata": {
    "executionInfo": {
     "elapsed": 21,
     "status": "ok",
     "timestamp": 1666359089718,
     "user": {
      "displayName": "Nitansh Jain",
      "userId": "16132165384365515816"
     },
     "user_tz": -330
    },
    "id": "vchyP-nVvCV8"
   },
   "outputs": [],
   "source": [
    "knn = KNeighborsClassifier(n_neighbors=11)\n",
    "knn.fit(x_train, y_train)\n",
    "y_label = knn.predict(x_test)"
   ]
  },
  {
   "cell_type": "code",
   "execution_count": 89,
   "metadata": {
    "colab": {
     "base_uri": "https://localhost:8080/"
    },
    "executionInfo": {
     "elapsed": 21,
     "status": "ok",
     "timestamp": 1666359089719,
     "user": {
      "displayName": "Nitansh Jain",
      "userId": "16132165384365515816"
     },
     "user_tz": -330
    },
    "id": "AJf2kX1nvUlr",
    "outputId": "ec08e318-a3c2-4add-af6a-5b988aaf323c"
   },
   "outputs": [
    {
     "name": "stdout",
     "output_type": "stream",
     "text": [
      "              precision    recall  f1-score   support\n",
      "\n",
      "           0       1.00      1.00      1.00        10\n",
      "           1       1.00      1.00      1.00         9\n",
      "           2       1.00      1.00      1.00        11\n",
      "\n",
      "    accuracy                           1.00        30\n",
      "   macro avg       1.00      1.00      1.00        30\n",
      "weighted avg       1.00      1.00      1.00        30\n",
      "\n",
      "[[10  0  0]\n",
      " [ 0  9  0]\n",
      " [ 0  0 11]]\n"
     ]
    }
   ],
   "source": [
    "from sklearn import metrics\n",
    "print(metrics.classification_report(y_test,y_label)) \n",
    "print(metrics.confusion_matrix(y_test,y_label))"
   ]
  }
 ],
 "metadata": {
  "colab": {
   "authorship_tag": "ABX9TyPHJ50xEY5XCmm7YIkgjPCM",
   "collapsed_sections": [],
   "provenance": []
  },
  "kernelspec": {
   "display_name": "Python 3 (ipykernel)",
   "language": "python",
   "name": "python3"
  },
  "language_info": {
   "codemirror_mode": {
    "name": "ipython",
    "version": 3
   },
   "file_extension": ".py",
   "mimetype": "text/x-python",
   "name": "python",
   "nbconvert_exporter": "python",
   "pygments_lexer": "ipython3",
   "version": "3.9.7"
  }
 },
 "nbformat": 4,
 "nbformat_minor": 1
}
