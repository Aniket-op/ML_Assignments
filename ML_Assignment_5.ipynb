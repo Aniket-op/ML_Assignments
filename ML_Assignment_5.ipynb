{
 "cells": [
  {
   "cell_type": "code",
   "execution_count": 1,
   "id": "99abec4a",
   "metadata": {},
   "outputs": [],
   "source": [
    "#==== q-1 ====\n",
    "import sklearn\n",
    "from sklearn import datasets\n",
    "from sklearn.multiclass import OneVsRestClassifier\n",
    "from sklearn.svm import SVC\n",
    "from sklearn.metrics import accuracy_score, classification_report\n",
    "from sklearn.model_selection import train_test_split"
   ]
  },
  {
   "cell_type": "code",
   "execution_count": 2,
   "id": "e1e689c1",
   "metadata": {},
   "outputs": [],
   "source": [
    "# Loading the dataset\n",
    "from sklearn.datasets import load_iris\n",
    "sklearn.datasets.load_iris\n",
    "\n",
    "dataset = load_iris()\n",
    "X = dataset.data\n",
    "y = dataset.target"
   ]
  },
  {
   "cell_type": "code",
   "execution_count": 3,
   "id": "f4663b47",
   "metadata": {},
   "outputs": [],
   "source": [
    "# Splitting the dataset into training and testing sets\n",
    "X_train, X_test, y_train, y_test = train_test_split(X, y, test_size = 0.1, random_state = 13)"
   ]
  },
  {
   "cell_type": "code",
   "execution_count": 4,
   "id": "0549b271",
   "metadata": {},
   "outputs": [],
   "source": [
    "# Creating the SVM model\n",
    "model = OneVsRestClassifier(SVC())"
   ]
  },
  {
   "cell_type": "code",
   "execution_count": 5,
   "id": "10604c26",
   "metadata": {},
   "outputs": [
    {
     "data": {
      "text/plain": [
       "OneVsRestClassifier(estimator=SVC())"
      ]
     },
     "execution_count": 5,
     "metadata": {},
     "output_type": "execute_result"
    }
   ],
   "source": [
    "# Fitting the model with training data\n",
    "model.fit(X_train, y_train)"
   ]
  },
  {
   "cell_type": "code",
   "execution_count": 6,
   "id": "ee624c1e",
   "metadata": {},
   "outputs": [],
   "source": [
    "# Making a prediction on the test set\n",
    "prediction = model.predict(X_test)"
   ]
  },
  {
   "cell_type": "code",
   "execution_count": 7,
   "id": "4e5c93a0",
   "metadata": {},
   "outputs": [
    {
     "name": "stdout",
     "output_type": "stream",
     "text": [
      "Test Set Accuracy : 80.0 %\n",
      "\n",
      "\n",
      "Classification Report : \n",
      "\n",
      "              precision    recall  f1-score   support\n",
      "\n",
      "           0       1.00      1.00      1.00         4\n",
      "           1       0.57      1.00      0.73         4\n",
      "           2       1.00      0.57      0.73         7\n",
      "\n",
      "    accuracy                           0.80        15\n",
      "   macro avg       0.86      0.86      0.82        15\n",
      "weighted avg       0.89      0.80      0.80        15\n",
      "\n"
     ]
    }
   ],
   "source": [
    "# Evaluating the model\n",
    "print(f\"Test Set Accuracy : {accuracy_score(y_test, prediction) * 100} %\\n\\n\")\n",
    "print(f\"Classification Report : \\n\\n{classification_report(y_test, prediction)}\")"
   ]
  },
  {
   "cell_type": "code",
   "execution_count": 8,
   "id": "71be95a5",
   "metadata": {},
   "outputs": [
    {
     "data": {
      "text/html": [
       "<div>\n",
       "<style scoped>\n",
       "    .dataframe tbody tr th:only-of-type {\n",
       "        vertical-align: middle;\n",
       "    }\n",
       "\n",
       "    .dataframe tbody tr th {\n",
       "        vertical-align: top;\n",
       "    }\n",
       "\n",
       "    .dataframe thead th {\n",
       "        text-align: right;\n",
       "    }\n",
       "</style>\n",
       "<table border=\"1\" class=\"dataframe\">\n",
       "  <thead>\n",
       "    <tr style=\"text-align: right;\">\n",
       "      <th></th>\n",
       "      <th>Test-1</th>\n",
       "      <th>Test-2</th>\n",
       "      <th>Result</th>\n",
       "    </tr>\n",
       "  </thead>\n",
       "  <tbody>\n",
       "    <tr>\n",
       "      <th>0</th>\n",
       "      <td>0.051267</td>\n",
       "      <td>0.699560</td>\n",
       "      <td>1</td>\n",
       "    </tr>\n",
       "    <tr>\n",
       "      <th>1</th>\n",
       "      <td>-0.092742</td>\n",
       "      <td>0.684940</td>\n",
       "      <td>1</td>\n",
       "    </tr>\n",
       "    <tr>\n",
       "      <th>2</th>\n",
       "      <td>-0.213710</td>\n",
       "      <td>0.692250</td>\n",
       "      <td>1</td>\n",
       "    </tr>\n",
       "    <tr>\n",
       "      <th>3</th>\n",
       "      <td>-0.375000</td>\n",
       "      <td>0.502190</td>\n",
       "      <td>1</td>\n",
       "    </tr>\n",
       "    <tr>\n",
       "      <th>4</th>\n",
       "      <td>-0.513250</td>\n",
       "      <td>0.465640</td>\n",
       "      <td>1</td>\n",
       "    </tr>\n",
       "    <tr>\n",
       "      <th>...</th>\n",
       "      <td>...</td>\n",
       "      <td>...</td>\n",
       "      <td>...</td>\n",
       "    </tr>\n",
       "    <tr>\n",
       "      <th>113</th>\n",
       "      <td>-0.720620</td>\n",
       "      <td>0.538740</td>\n",
       "      <td>0</td>\n",
       "    </tr>\n",
       "    <tr>\n",
       "      <th>114</th>\n",
       "      <td>-0.593890</td>\n",
       "      <td>0.494880</td>\n",
       "      <td>0</td>\n",
       "    </tr>\n",
       "    <tr>\n",
       "      <th>115</th>\n",
       "      <td>-0.484450</td>\n",
       "      <td>0.999270</td>\n",
       "      <td>0</td>\n",
       "    </tr>\n",
       "    <tr>\n",
       "      <th>116</th>\n",
       "      <td>-0.006336</td>\n",
       "      <td>0.999270</td>\n",
       "      <td>0</td>\n",
       "    </tr>\n",
       "    <tr>\n",
       "      <th>117</th>\n",
       "      <td>0.632650</td>\n",
       "      <td>-0.030612</td>\n",
       "      <td>0</td>\n",
       "    </tr>\n",
       "  </tbody>\n",
       "</table>\n",
       "<p>118 rows × 3 columns</p>\n",
       "</div>"
      ],
      "text/plain": [
       "       Test-1    Test-2  Result\n",
       "0    0.051267  0.699560       1\n",
       "1   -0.092742  0.684940       1\n",
       "2   -0.213710  0.692250       1\n",
       "3   -0.375000  0.502190       1\n",
       "4   -0.513250  0.465640       1\n",
       "..        ...       ...     ...\n",
       "113 -0.720620  0.538740       0\n",
       "114 -0.593890  0.494880       0\n",
       "115 -0.484450  0.999270       0\n",
       "116 -0.006336  0.999270       0\n",
       "117  0.632650 -0.030612       0\n",
       "\n",
       "[118 rows x 3 columns]"
      ]
     },
     "execution_count": 8,
     "metadata": {},
     "output_type": "execute_result"
    }
   ],
   "source": [
    "#==== q-2 ====\n",
    "#(a)\n",
    "#import dataset\n",
    "import pandas as pd\n",
    "df = pd.read_csv(\"C:\\\\Users\\\\Ketan Singh\\\\Desktop\\\\exam6.txt\",names = ['Test-1','Test-2','Result'])\n",
    "df"
   ]
  },
  {
   "cell_type": "code",
   "execution_count": 9,
   "id": "10880ebc",
   "metadata": {},
   "outputs": [
    {
     "name": "stdout",
     "output_type": "stream",
     "text": [
      "Requirement already satisfied: missingno in c:\\users\\ketan singh\\anaconda3\\lib\\site-packages (0.5.1)\n",
      "Requirement already satisfied: numpy in c:\\users\\ketan singh\\anaconda3\\lib\\site-packages (from missingno) (1.21.5)\n",
      "Requirement already satisfied: matplotlib in c:\\users\\ketan singh\\anaconda3\\lib\\site-packages (from missingno) (3.5.1)\n",
      "Requirement already satisfied: scipy in c:\\users\\ketan singh\\anaconda3\\lib\\site-packages (from missingno) (1.7.3)\n",
      "Requirement already satisfied: seaborn in c:\\users\\ketan singh\\anaconda3\\lib\\site-packages (from missingno) (0.11.2)\n",
      "Requirement already satisfied: pillow>=6.2.0 in c:\\users\\ketan singh\\anaconda3\\lib\\site-packages (from matplotlib->missingno) (9.0.1)\n",
      "Requirement already satisfied: python-dateutil>=2.7 in c:\\users\\ketan singh\\anaconda3\\lib\\site-packages (from matplotlib->missingno) (2.8.2)\n",
      "Requirement already satisfied: pyparsing>=2.2.1 in c:\\users\\ketan singh\\anaconda3\\lib\\site-packages (from matplotlib->missingno) (3.0.4)\n",
      "Requirement already satisfied: fonttools>=4.22.0 in c:\\users\\ketan singh\\anaconda3\\lib\\site-packages (from matplotlib->missingno) (4.25.0)\n",
      "Requirement already satisfied: cycler>=0.10 in c:\\users\\ketan singh\\anaconda3\\lib\\site-packages (from matplotlib->missingno) (0.11.0)\n",
      "Requirement already satisfied: kiwisolver>=1.0.1 in c:\\users\\ketan singh\\anaconda3\\lib\\site-packages (from matplotlib->missingno) (1.3.2)\n",
      "Requirement already satisfied: packaging>=20.0 in c:\\users\\ketan singh\\anaconda3\\lib\\site-packages (from matplotlib->missingno) (21.3)\n",
      "Requirement already satisfied: six>=1.5 in c:\\users\\ketan singh\\anaconda3\\lib\\site-packages (from python-dateutil>=2.7->matplotlib->missingno) (1.16.0)\n",
      "Requirement already satisfied: pandas>=0.23 in c:\\users\\ketan singh\\anaconda3\\lib\\site-packages (from seaborn->missingno) (1.4.2)\n",
      "Requirement already satisfied: pytz>=2020.1 in c:\\users\\ketan singh\\anaconda3\\lib\\site-packages (from pandas>=0.23->seaborn->missingno) (2021.3)\n",
      "Note: you may need to restart the kernel to use updated packages.\n"
     ]
    }
   ],
   "source": [
    "pip install missingno"
   ]
  },
  {
   "cell_type": "code",
   "execution_count": 10,
   "id": "080feede",
   "metadata": {},
   "outputs": [
    {
     "data": {
      "text/plain": [
       "<AxesSubplot:>"
      ]
     },
     "execution_count": 10,
     "metadata": {},
     "output_type": "execute_result"
    },
    {
     "data": {
      "image/png": "[encoded data removed]",
      "text/plain": [
       "<Figure size 1800x720 with 3 Axes>"
      ]
     },
     "metadata": {
      "needs_background": "light"
     },
     "output_type": "display_data"
    }
   ],
   "source": [
    "#checking null values\n",
    "import missingno as msn\n",
    "msn.bar(df.iloc[:,0:2])"
   ]
  },
  {
   "cell_type": "code",
   "execution_count": 11,
   "id": "af89d523",
   "metadata": {},
   "outputs": [
    {
     "data": {
      "text/plain": [
       "<AxesSubplot:xlabel='count', ylabel='Result'>"
      ]
     },
     "execution_count": 11,
     "metadata": {},
     "output_type": "execute_result"
    },
    {
     "data": {
      "image/png": "[encoded data removed]",
      "text/plain": [
       "<Figure size 432x288 with 1 Axes>"
      ]
     },
     "metadata": {
      "needs_background": "light"
     },
     "output_type": "display_data"
    }
   ],
   "source": [
    "#checking for class balancing\n",
    "import seaborn as sns\n",
    "sns.countplot(y=df.iloc[:,2],data=df)"
   ]
  },
  {
   "cell_type": "code",
   "execution_count": 12,
   "id": "ea225f8b",
   "metadata": {},
   "outputs": [
    {
     "data": {
      "text/plain": [
       "<AxesSubplot:>"
      ]
     },
     "execution_count": 12,
     "metadata": {},
     "output_type": "execute_result"
    },
    {
     "data": {
      "image/png": "[encoded data removed]",
      "text/plain": [
       "<Figure size 432x288 with 2 Axes>"
      ]
     },
     "metadata": {
      "needs_background": "light"
     },
     "output_type": "display_data"
    }
   ],
   "source": [
    "#pre-processing\n",
    "sns.heatmap(df.iloc[:,:2].corr(),annot=True)"
   ]
  },
  {
   "cell_type": "code",
   "execution_count": 13,
   "id": "890ce956",
   "metadata": {},
   "outputs": [],
   "source": [
    "# splitting input and output features\n",
    "from sklearn.preprocessing import StandardScaler\n",
    "import numpy as np\n",
    "X=df.iloc[:,0:2]\n",
    "Y=df.iloc[:,2]\n",
    "scaler=StandardScaler()\n",
    "X_scaled=scaler.fit_transform(X)\n",
    "X_scaled=np.insert(X_scaled,0,values=1,axis=1)"
   ]
  },
  {
   "cell_type": "code",
   "execution_count": 14,
   "id": "9ce3cf84",
   "metadata": {},
   "outputs": [],
   "source": [
    "# splitting training and testing data\n",
    "from sklearn.model_selection import train_test_split\n",
    "X_train, X_test, Y_train, Y_test = train_test_split(X_scaled, Y, test_size=0.5, random_state=42)"
   ]
  },
  {
   "cell_type": "code",
   "execution_count": 15,
   "id": "f1615c7e",
   "metadata": {},
   "outputs": [
    {
     "name": "stdout",
     "output_type": "stream",
     "text": [
      "[ 0.22339796 -0.82408338  1.62418032]\n"
     ]
    }
   ],
   "source": [
    "# finding optimal betas using gradient descent\n",
    "n=1000 #number of iterations\n",
    "alpha=10\n",
    "m,k=X_train.shape\n",
    "beta=np.zeros(k)\n",
    "for i in range(n):\n",
    "    cost_gradient=np.zeros(k)\n",
    "    z=X_train.dot(beta)\n",
    "    predicted=1/(1+np.exp(-z))\n",
    "    difference=predicted-Y_train\n",
    "    for j in range(k):\n",
    "        cost_gradient[j]=np.sum(difference.dot(X_train[:,j]))\n",
    "    for j in range(k):\n",
    "        beta[j]=beta[j]-(alpha/m)*cost_gradient[j]\n",
    "print(beta)"
   ]
  },
  {
   "cell_type": "code",
   "execution_count": 16,
   "id": "56902305",
   "metadata": {},
   "outputs": [],
   "source": [
    "# predicting and labelling\n",
    "Y_predict=1/(1+np.exp(-(X_test.dot(beta))))\n",
    "Y_label=np.zeros(len(Y_predict))\n",
    "for i in range(len(Y_predict)):\n",
    "    if(Y_predict[i]>=0.5):\n",
    "        Y_label[i]=1"
   ]
  },
  {
   "cell_type": "code",
   "execution_count": 17,
   "id": "cacc957f",
   "metadata": {},
   "outputs": [
    {
     "name": "stdout",
     "output_type": "stream",
     "text": [
      "18 12 15 14 \n",
      "\n",
      "positive precision = 0.5454545454545454 \n",
      " positive recall =  0.5625 \n",
      " positive f1 score =  0.5538461538461538 \n",
      "\n",
      "negative precision =  0.46153846153846156 \n",
      " negative recall =  0.4444444444444444 \n",
      " negative f1 score =  0.4528301886792453\n"
     ]
    }
   ],
   "source": [
    "# performance evaluation\n",
    "TP=0\n",
    "TN=0\n",
    "FP=0\n",
    "FN=0\n",
    "Y_test=np.array(Y_test).reshape(-1,1)\n",
    "for i in range(len(Y_label)):\n",
    "    if(Y_test[i]==1 and Y_label[i]==1):\n",
    "        TP=TP+1\n",
    "    if(Y_test[i]==1 and Y_label[i]==0):\n",
    "        FN=FN+1\n",
    "    if(Y_test[i]==0 and Y_label[i]==1):\n",
    "        FP=FP+1\n",
    "    if(Y_test[i]==0 and Y_label[i]==0):\n",
    "        TN=TN+1\n",
    "print(TP,TN,FP,FN,'\\n')\n",
    "accuracy=(TP+TN)/(TP+TN+FP+FN)\n",
    "\n",
    "#For positive class:\n",
    "precision_pos=TP/(TP+FP)\n",
    "recall_pos=TP/(TP+FN)\n",
    "f1_score_pos=2*precision_pos*recall_pos/(precision_pos+recall_pos)\n",
    "print('positive precision =',precision_pos,'\\n','positive recall = ',recall_pos,'\\n','positive f1 score = ',f1_score_pos,'\\n')\n",
    "\n",
    "#For negative class\n",
    "precision_neg=TN/(TN+FN)\n",
    "recall_neg=TN/(TN+FP)\n",
    "f1_score_neg=2*precision_neg*recall_neg/(precision_neg+recall_neg)\n",
    "print('negative precision = ',precision_neg,'\\n','negative recall = ',recall_neg,'\\n','negative f1 score = ',f1_score_neg)"
   ]
  },
  {
   "cell_type": "code",
   "execution_count": 18,
   "id": "3457b51c",
   "metadata": {},
   "outputs": [
    {
     "name": "stdout",
     "output_type": "stream",
     "text": [
      "macro precision =  0.5034965034965035 \n",
      " macro recall =  0.5034722222222222 \n",
      " macro f1 score =  0.5033381712626995 \n",
      "\n",
      "weighted precision =  0.5070522697641341 \n",
      " weighted recall =  0.5084745762711864 \n",
      " weighted f1 score =  0.507618508769772\n"
     ]
    }
   ],
   "source": [
    "# Macro Average:\n",
    "macro_precision=(precision_pos+precision_neg)/2\n",
    "macro_recall=(recall_pos+recall_neg)/2\n",
    "macro_f1_score=(f1_score_pos+f1_score_neg)/2\n",
    "print('macro precision = ',macro_precision,'\\n','macro recall = ',macro_recall,'\\n','macro f1 score = ',macro_f1_score,'\\n')\n",
    "\n",
    "# Weighted Average:\n",
    "l1=len(Y_test[Y_test==0])\n",
    "l2=len(Y_test[Y_test==1])\n",
    "weighted_precision=(l1*precision_neg+l2*precision_pos)/(l1+l2)\n",
    "weighted_recall=(l1*recall_neg+l2*recall_pos)/(l1+l2)\n",
    "weighted_f1_score=(l1*f1_score_neg+l2*f1_score_pos)/(l1+l2)\n",
    "print('weighted precision = ',weighted_precision,'\\n','weighted recall = ',weighted_recall,'\\n','weighted f1 score = ',weighted_f1_score)"
   ]
  },
  {
   "cell_type": "code",
   "execution_count": 19,
   "id": "fb303f7c",
   "metadata": {},
   "outputs": [
    {
     "name": "stdout",
     "output_type": "stream",
     "text": [
      "              precision    recall  f1-score   support\n",
      "\n",
      "           0       0.46      1.00      0.63        27\n",
      "           1       0.00      0.00      0.00        32\n",
      "\n",
      "    accuracy                           0.46        59\n",
      "   macro avg       0.23      0.50      0.31        59\n",
      "weighted avg       0.21      0.46      0.29        59\n",
      "\n"
     ]
    },
    {
     "name": "stderr",
     "output_type": "stream",
     "text": [
      "C:\\Users\\Ketan Singh\\anaconda3\\lib\\site-packages\\sklearn\\metrics\\_classification.py:1318: UndefinedMetricWarning: Precision and F-score are ill-defined and being set to 0.0 in labels with no predicted samples. Use `zero_division` parameter to control this behavior.\n",
      "  _warn_prf(average, modifier, msg_start, len(result))\n",
      "C:\\Users\\Ketan Singh\\anaconda3\\lib\\site-packages\\sklearn\\metrics\\_classification.py:1318: UndefinedMetricWarning: Precision and F-score are ill-defined and being set to 0.0 in labels with no predicted samples. Use `zero_division` parameter to control this behavior.\n",
      "  _warn_prf(average, modifier, msg_start, len(result))\n",
      "C:\\Users\\Ketan Singh\\anaconda3\\lib\\site-packages\\sklearn\\metrics\\_classification.py:1318: UndefinedMetricWarning: Precision and F-score are ill-defined and being set to 0.0 in labels with no predicted samples. Use `zero_division` parameter to control this behavior.\n",
      "  _warn_prf(average, modifier, msg_start, len(result))\n"
     ]
    }
   ],
   "source": [
    "# using inbuilt function\n",
    "from sklearn.linear_model import LogisticRegression\n",
    "from sklearn import metrics\n",
    "lr = LogisticRegression(solver='sag')\n",
    "#sag denote Stochastic Average Gradient\n",
    "model=lr.fit(X_train,Y_train)\n",
    "Y_label1=model.predict(X_test)\n",
    "print(metrics.classification_report(Y_test,Y_label1))"
   ]
  },
  {
   "cell_type": "code",
   "execution_count": 20,
   "id": "d2468051",
   "metadata": {},
   "outputs": [
    {
     "name": "stdout",
     "output_type": "stream",
     "text": [
      "[ 0.2238005  -0.8249323   1.62807309]\n"
     ]
    }
   ],
   "source": [
    "# (b)\n",
    "n=1000 #number of iterations\n",
    "alpha=10\n",
    "lamda=0.2\n",
    "m,k=X_train.shape\n",
    "beta=np.zeros(k)\n",
    "for i in range(n):\n",
    "    cost_gradient=np.zeros(k)\n",
    "    z=X_train.dot(beta)\n",
    "    predicted=1/(1+np.exp(-z))\n",
    "    difference=predicted-Y_train\n",
    "    for j in range(k):\n",
    "        cost_gradient[j]=np.sum(difference.dot(X_train[:,j]))\n",
    "    for j in range(k):\n",
    "        beta[j]=beta[j]*(1-alpha*lamda/n)-(alpha/m)*cost_gradient[j]\n",
    "print(beta)"
   ]
  },
  {
   "cell_type": "code",
   "execution_count": 21,
   "id": "6391693f",
   "metadata": {},
   "outputs": [],
   "source": [
    "# predicting and labelling\n",
    "Y_predict=1/(1+np.exp(-(X_test.dot(beta))))\n",
    "Y_label=np.zeros(len(Y_predict))\n",
    "for i in range(len(Y_predict)):\n",
    "    if(Y_predict[i]>=0.5):\n",
    "        Y_label[i]=1"
   ]
  },
  {
   "cell_type": "code",
   "execution_count": 22,
   "id": "2b61aa2b",
   "metadata": {},
   "outputs": [
    {
     "name": "stdout",
     "output_type": "stream",
     "text": [
      "18 12 15 14 \n",
      "\n",
      "positive precision = 0.5454545454545454 \n",
      " positive recall =  0.5625 \n",
      " positive f1 score =  0.5538461538461538 \n",
      "\n",
      "negative precision =  0.46153846153846156 \n",
      " negative recall =  0.4444444444444444 \n",
      " negative f1 score =  0.4528301886792453\n"
     ]
    }
   ],
   "source": [
    "# performance evaluation\n",
    "TP=0\n",
    "TN=0\n",
    "FP=0\n",
    "FN=0\n",
    "Y_test=np.array(Y_test).reshape(-1,1)\n",
    "for i in range(len(Y_label)):\n",
    "    if(Y_test[i]==1 and Y_label[i]==1):\n",
    "        TP=TP+1\n",
    "    if(Y_test[i]==1 and Y_label[i]==0):\n",
    "        FN=FN+1\n",
    "    if(Y_test[i]==0 and Y_label[i]==1):\n",
    "        FP=FP+1\n",
    "    if(Y_test[i]==0 and Y_label[i]==0):\n",
    "        TN=TN+1\n",
    "print(TP,TN,FP,FN,'\\n')\n",
    "accuracy=(TP+TN)/(TP+TN+FP+FN)\n",
    "\n",
    "#For positive class:\n",
    "precision_pos=TP/(TP+FP)\n",
    "recall_pos=TP/(TP+FN)\n",
    "f1_score_pos=2*precision_pos*recall_pos/(precision_pos+recall_pos)\n",
    "print('positive precision =',precision_pos,'\\n','positive recall = ',recall_pos,'\\n','positive f1 score = ',f1_score_pos,'\\n')\n",
    "\n",
    "#For negative class\n",
    "precision_neg=TN/(TN+FN)\n",
    "recall_neg=TN/(TN+FP)\n",
    "f1_score_neg=2*precision_neg*recall_neg/(precision_neg+recall_neg)\n",
    "print('negative precision = ',precision_neg,'\\n','negative recall = ',recall_neg,'\\n','negative f1 score = ',f1_score_neg)"
   ]
  },
  {
   "cell_type": "code",
   "execution_count": 23,
   "id": "8014dfe0",
   "metadata": {},
   "outputs": [
    {
     "name": "stdout",
     "output_type": "stream",
     "text": [
      "macro precision =  0.5034965034965035 \n",
      " macro recall =  0.5034722222222222 \n",
      " macro f1 score =  0.5033381712626995 \n",
      "\n",
      "weighted precision =  0.5070522697641341 \n",
      " weighted recall =  0.5084745762711864 \n",
      " weighted f1 score =  0.507618508769772\n"
     ]
    }
   ],
   "source": [
    "# Macro Average:\n",
    "macro_precision=(precision_pos+precision_neg)/2\n",
    "macro_recall=(recall_pos+recall_neg)/2\n",
    "macro_f1_score=(f1_score_pos+f1_score_neg)/2\n",
    "print('macro precision = ',macro_precision,'\\n','macro recall = ',macro_recall,'\\n','macro f1 score = ',macro_f1_score,'\\n')\n",
    "\n",
    "# Weighted Average:\n",
    "l1=len(Y_test[Y_test==0])\n",
    "l2=len(Y_test[Y_test==1])\n",
    "weighted_precision=(l1*precision_neg+l2*precision_pos)/(l1+l2)\n",
    "weighted_recall=(l1*recall_neg+l2*recall_pos)/(l1+l2)\n",
    "weighted_f1_score=(l1*f1_score_neg+l2*f1_score_pos)/(l1+l2)\n",
    "print('weighted precision = ',weighted_precision,'\\n','weighted recall = ',weighted_recall,'\\n','weighted f1 score = ',weighted_f1_score)"
   ]
  }
 ],
 "metadata": {
  "kernelspec": {
   "display_name": "Python 3 (ipykernel)",
   "language": "python",
   "name": "python3"
  },
  "language_info": {
   "codemirror_mode": {
    "name": "ipython",
    "version": 3
   },
   "file_extension": ".py",
   "mimetype": "text/x-python",
   "name": "python",
   "nbconvert_exporter": "python",
   "pygments_lexer": "ipython3",
   "version": "3.9.7"
  }
 },
 "nbformat": 4,
 "nbformat_minor": 5
}
