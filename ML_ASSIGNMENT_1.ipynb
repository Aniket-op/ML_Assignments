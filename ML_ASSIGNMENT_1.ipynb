{
 "cells": [
  {
   "cell_type": "code",
   "execution_count": 1,
   "id": "c4bdb39e",
   "metadata": {},
   "outputs": [],
   "source": [
    "import numpy as np"
   ]
  },
  {
   "cell_type": "markdown",
   "id": "35dcefb4",
   "metadata": {},
   "source": [
    "# Q1: Questions on Basic NumPy Array"
   ]
  },
  {
   "cell_type": "markdown",
   "id": "b25a054c",
   "metadata": {},
   "source": [
    "(a) Reverse the NumPy array: arr = np.array([1, 2, 3, 6, 4, 5])"
   ]
  },
  {
   "cell_type": "code",
   "execution_count": 2,
   "id": "ccc34509",
   "metadata": {},
   "outputs": [
    {
     "data": {
      "text/plain": [
       "array([5, 4, 6, 3, 2, 1])"
      ]
     },
     "execution_count": 2,
     "metadata": {},
     "output_type": "execute_result"
    }
   ],
   "source": [
    "arr = np.array([1, 2, 3, 6, 4, 5])\n",
    "\n",
    "arr[::-1]\n"
   ]
  },
  {
   "cell_type": "markdown",
   "id": "c5696578",
   "metadata": {},
   "source": [
    "(b) Flatten the NumPy arr: array1 = np.array([[1, 2, 3], [2, 4, 5], [1, 2, 3]]) using any two\n",
    "NumPy in-built methods"
   ]
  },
  {
   "cell_type": "code",
   "execution_count": 3,
   "id": "67305077",
   "metadata": {},
   "outputs": [
    {
     "name": "stdout",
     "output_type": "stream",
     "text": [
      "before flattening : \n",
      " [[1 2 3]\n",
      " [2 4 5]\n",
      " [1 2 3]] \n",
      "\n",
      "After Flattening : [1 2 3 2 4 5 1 2 3]\n"
     ]
    }
   ],
   "source": [
    "array1 = np.array([[1, 2, 3], [2, 4, 5], [1, 2, 3]]) \n",
    "\n",
    "\n",
    "print(\"before flattening : \\n\",array1,\"\\n\\nAfter Flattening :\",array1.flatten())\n"
   ]
  },
  {
   "cell_type": "markdown",
   "id": "4d755688",
   "metadata": {},
   "source": [
    "(c) Compare the following numpy arrays:"
   ]
  },
  {
   "cell_type": "code",
   "execution_count": 4,
   "id": "0413c5c9",
   "metadata": {},
   "outputs": [
    {
     "name": "stdout",
     "output_type": "stream",
     "text": [
      "True True\n"
     ]
    }
   ],
   "source": [
    "arr1 = np.array([[1, 2], [3, 4]])\n",
    "arr2 = np.array([[1, 2], [3, 4]])\n",
    "\n",
    "\n",
    "print(np.array_equal(arr1,arr2),(arr1==arr2).all())"
   ]
  },
  {
   "cell_type": "markdown",
   "id": "0c7777da",
   "metadata": {},
   "source": [
    "(d) Find the most frequent value and their indice(s) in the following arrays:"
   ]
  },
  {
   "cell_type": "code",
   "execution_count": 5,
   "id": "e1778158",
   "metadata": {},
   "outputs": [
    {
     "name": "stdout",
     "output_type": "stream",
     "text": [
      "1  is at  (array([0, 5, 7, 8, 9]),) \n",
      "\n",
      " 1  is at  (array([0, 1, 2]),)\n"
     ]
    }
   ],
   "source": [
    "from statistics import mode\n",
    "\n",
    "x = np.array([1,2,3,4,5,1,2,1,1,1])\n",
    "y = np.array([1, 1, 1, 2, 3, 4, 2, 4, 3, 3, ])\n",
    "\n",
    "print(mode(x),\" is at \",np.where(x==mode(x)),\"\\n\\n\",mode(y),\" is at \", np.where(y==mode(y)))\n"
   ]
  },
  {
   "cell_type": "raw",
   "id": "b1e6f60a",
   "metadata": {},
   "source": [
    "(e) For the array gfg = np.matrix('[4, 1, 9; 12, 3, 1; 4, 5, 6]'), find\n",
    "i. Sum of all elements\n",
    "ii. Sum of all elements row-wise\n",
    "iii. Sum of all elements column-wise"
   ]
  },
  {
   "cell_type": "code",
   "execution_count": 6,
   "id": "7d3f1f0d",
   "metadata": {},
   "outputs": [
    {
     "name": "stdout",
     "output_type": "stream",
     "text": [
      "Flatten sum :  45 \n",
      "\n",
      "Column wise sum :  [[20  9 16]] \n",
      "\n",
      "Row wise sum : \n",
      " [[14]\n",
      " [16]\n",
      " [15]]\n"
     ]
    }
   ],
   "source": [
    "gfg = np.matrix('[4, 1, 9; 12, 3, 1; 4, 5, 6]')\n",
    "\n",
    "print(\"Flatten sum : \",np.sum(gfg),\"\\n\\nColumn wise sum : \",np.sum(gfg,axis=0),\"\\n\\nRow wise sum : \\n\",np.sum(gfg,axis=1))"
   ]
  },
  {
   "cell_type": "raw",
   "id": "5770ef20",
   "metadata": {},
   "source": [
    "(f) For the matrix: n_array = np.array([[55, 25, 15],[30, 44, 2],[11, 45, 77]]), find\n",
    "i. Sum of diagonal elements\n",
    "ii. Eigen values of matrix\n",
    "iii. Eigen vectors of matrix\n",
    "iv. Inverse of matrix\n",
    "v. Determinant of matrix"
   ]
  },
  {
   "cell_type": "code",
   "execution_count": 7,
   "id": "c8d8a56f",
   "metadata": {},
   "outputs": [
    {
     "name": "stdout",
     "output_type": "stream",
     "text": [
      "Sum :  176 \n",
      "\n",
      "Eigen Vector : \n",
      " (array([98.16835147, 28.097044  , 49.73460452]), array([[ 0.4574917 ,  0.34637121, -0.15017693],\n",
      "       [ 0.28447814, -0.72784061, -0.4852124 ],\n",
      "       [ 0.84248058,  0.59184038,  0.8614034 ]])) \n",
      "\n",
      "EigenValue :  [98.16835147 28.097044   49.73460452] \n",
      "\n",
      "Inverse matrix : \n",
      " [[ 0.02404141 -0.00911212 -0.00444671]\n",
      " [-0.01667882  0.02966905  0.0024785 ]\n",
      " [ 0.00631287 -0.01603732  0.01217379]] \n",
      "\n",
      "Determinant :  137180.0000000001\n"
     ]
    }
   ],
   "source": [
    "n_array = np.array([[55, 25, 15],[30, 44, 2],[11, 45, 77]])\n",
    "\n",
    "print(\"Sum : \",sum(np.diag(n_array)),\"\\n\\nEigen Vector : \\n\",np.linalg.eig(n_array),\"\\n\\nEigenValue : \",np.linalg.eigvals(n_array),\"\\n\\nInverse matrix : \\n\",np.linalg.inv(n_array),\"\\n\\nDeterminant : \",np.linalg.det(n_array))\n",
    "\n"
   ]
  },
  {
   "cell_type": "raw",
   "id": "951d9c21",
   "metadata": {},
   "source": [
    "(g) Multiply the following matrices and also find covariance between matrices using NumPy:\n",
    "i. p = [[1, 2], [2, 3]]\n",
    "    q = [[4, 5], [6, 7]]\n",
    "ii. p = [[1, 2], [2, 3], [4, 5]]\n",
    "    q = [[4, 5, 1], [6, 7, 2]]"
   ]
  },
  {
   "cell_type": "code",
   "execution_count": 8,
   "id": "8591c587",
   "metadata": {},
   "outputs": [
    {
     "name": "stdout",
     "output_type": "stream",
     "text": [
      "The multiplication of the two matrices is : \n",
      " [[16 19]\n",
      " [26 31]] \n",
      "\n",
      " The covariance is : \n",
      " [[ 4.5  7.5]\n",
      " [ 7.5 12.5]]\n"
     ]
    }
   ],
   "source": [
    "p =np.array([[1, 2], [2, 3]])\n",
    "q =np.array([[4, 5], [6, 7]])\n",
    "\n",
    "\n",
    "print(\"The multiplication of the two matrices is : \\n\",np.dot(p,q),\"\\n\\n\",\"The covariance is : \\n\",np.cov(np.dot(p,q)))\n",
    "\n",
    "\n"
   ]
  },
  {
   "cell_type": "code",
   "execution_count": 9,
   "id": "28477eab",
   "metadata": {},
   "outputs": [
    {
     "name": "stdout",
     "output_type": "stream",
     "text": [
      "The multiplication of the two matrices is : \n",
      " [[16 19  5]\n",
      " [26 31  8]\n",
      " [46 55 14]] \n",
      "\n",
      " The covariance is : \n",
      " [[ 54.33333333  89.16666667 158.83333333]\n",
      " [ 89.16666667 146.33333333 260.66666667]\n",
      " [158.83333333 260.66666667 464.33333333]]\n"
     ]
    }
   ],
   "source": [
    "p1 = ([[1, 2], [2, 3], [4, 5]])\n",
    "q1 = ([[4, 5, 1], [6, 7, 2]])\n",
    "\n",
    "\n",
    "print(\"The multiplication of the two matrices is : \\n\",np.dot(p1,q1),\"\\n\\n\",\"The covariance is : \\n\",np.cov(np.dot(p1,q1)))\n",
    "\n"
   ]
  },
  {
   "cell_type": "raw",
   "id": "1f637608",
   "metadata": {},
   "source": [
    "(h) For the matrices: \n",
    "x = np.array([[2, 3, 4], [3, 2, 9]]); \n",
    "y = np.array([[1, 5, 0], [5, 10, 3]]),\n",
    "find inner, outer and cartesian product?"
   ]
  },
  {
   "cell_type": "code",
   "execution_count": 10,
   "id": "d73a8103",
   "metadata": {},
   "outputs": [
    {
     "name": "stdout",
     "output_type": "stream",
     "text": [
      "Inner Product : \n",
      " [[17 52]\n",
      " [13 62]] \n",
      "\n",
      " Outer Product : \n",
      " [[ 2 10  0 10 20  6]\n",
      " [ 3 15  0 15 30  9]\n",
      " [ 4 20  0 20 40 12]\n",
      " [ 3 15  0 15 30  9]\n",
      " [ 2 10  0 10 20  6]\n",
      " [ 9 45  0 45 90 27]] \n",
      "Cartesian product : \n",
      "\n"
     ]
    }
   ],
   "source": [
    "\n",
    "x = [[2, 3, 4], [3, 2, 9]]\n",
    "y = [[1, 5, 0], [5, 10, 3]]\n",
    "\n",
    "print(\"Inner Product : \\n\",np.inner(x,y),\"\\n\\n\",\"Outer Product : \\n\",np.outer(x,y),\"\\nCartesian product : \\n\")"
   ]
  },
  {
   "cell_type": "markdown",
   "id": "12f364fc",
   "metadata": {},
   "source": [
    "# Q2: Based on NumPy Mathematics and Statistics"
   ]
  },
  {
   "cell_type": "raw",
   "id": "8414ddbc",
   "metadata": {},
   "source": [
    "(a) For the array: array = np.array([[1, -2, 3],[-4, 5, -6]])\n",
    "i. Find element-wise absolute value\n",
    "ii. Find the 25th, 50th, and 75th percentile of flattened array, for each column, for eachrow.\n",
    "iii. Mean, Median and Standard Deviation of flattened array, of each column, and\n",
    "each row"
   ]
  },
  {
   "cell_type": "code",
   "execution_count": 11,
   "id": "d3a7b667",
   "metadata": {},
   "outputs": [
    {
     "name": "stdout",
     "output_type": "stream",
     "text": [
      "i. The absolute Values are : \n",
      " [[1 2 3]\n",
      " [4 5 6]]\n"
     ]
    }
   ],
   "source": [
    "array = np.array([[1, -2, 3],[-4, 5, -6]])\n",
    "array2 = array.flatten()\n",
    "\n",
    "\n",
    "print(\"i. The absolute Values are : \\n\",np.absolute(array))\n"
   ]
  },
  {
   "cell_type": "code",
   "execution_count": 12,
   "id": "e5401c93",
   "metadata": {},
   "outputs": [
    {
     "name": "stdout",
     "output_type": "stream",
     "text": [
      "ii. 25th percentile :  -3.5 \n",
      "50th percentile :  -0.5 \n",
      "75th percentile :  2.5\n"
     ]
    }
   ],
   "source": [
    "print(\"ii. 25th percentile : \",np.percentile(array2,25),\"\\n50th percentile : \",np.percentile(array2,50),\"\\n75th percentile : \",np.percentile(array2,75))"
   ]
  },
  {
   "cell_type": "code",
   "execution_count": 13,
   "id": "9847496e",
   "metadata": {},
   "outputs": [
    {
     "name": "stdout",
     "output_type": "stream",
     "text": [
      "iii. mean of rows :  [-1.5  1.5 -1.5] \n",
      "mean of columns :  [ 0.66666667 -1.66666667]\n"
     ]
    }
   ],
   "source": [
    "print(\"iii. mean of rows : \",np.mean(array,axis=0) , \"\\nmean of columns : \",np.mean(array,axis=1))"
   ]
  },
  {
   "cell_type": "code",
   "execution_count": 14,
   "id": "5bb1c019",
   "metadata": {},
   "outputs": [
    {
     "name": "stdout",
     "output_type": "stream",
     "text": [
      "median of rows :  [-1.5  1.5 -1.5] \n",
      "median of columns :  [ 1. -4.]\n"
     ]
    }
   ],
   "source": [
    "print(\"median of rows : \",np.median(array,axis=0) , \"\\nmedian of columns : \",np.median(array,axis=1))"
   ]
  },
  {
   "cell_type": "code",
   "execution_count": 15,
   "id": "df171497",
   "metadata": {},
   "outputs": [
    {
     "name": "stdout",
     "output_type": "stream",
     "text": [
      "Standard deviation of rows :  [2.5 3.5 4.5] \n",
      "Standard deviation of columns :  [2.05480467 4.78423336]\n"
     ]
    }
   ],
   "source": [
    "print(\"Standard deviation of rows : \",np.std(array,axis=0) , \"\\nStandard deviation of columns : \",np.std(array,axis=1))"
   ]
  },
  {
   "cell_type": "raw",
   "id": "0b4b5d96",
   "metadata": {},
   "source": [
    "(b) For the array: a = np.array([-1.8, -1.6, -0.5, 0.5,1.6, 1.8, 3.0]). \n",
    "    Find floor, ceiling and truncated value, rounded values"
   ]
  },
  {
   "cell_type": "code",
   "execution_count": 16,
   "id": "21dc05c6",
   "metadata": {},
   "outputs": [],
   "source": [
    "a = np.array([-1.8, -1.6, -0.5, 0.5,1.6, 1.8, 3.0])"
   ]
  },
  {
   "cell_type": "code",
   "execution_count": 17,
   "id": "f8ec57bd",
   "metadata": {},
   "outputs": [
    {
     "name": "stdout",
     "output_type": "stream",
     "text": [
      "The floor value of the array is :  [-2. -2. -1.  0.  1.  1.  3.] \n",
      "The ceiling value of the array is :  [-1. -1. -0.  1.  2.  2.  3.] \n",
      "The truncated value of teh array is :  [-1. -1. -0.  0.  1.  1.  3.] \n",
      "The rounded value of the array is :  [-2. -2. -0.  0.  2.  2.  3.]\n"
     ]
    }
   ],
   "source": [
    "print(\"The floor value of the array is : \",np.floor(a),\"\\nThe ceiling value of the array is : \",np.ceil(a),\"\\nThe truncated value of teh array is : \",np.trunc(a),\"\\nThe rounded value of the array is : \",np.round(a))"
   ]
  },
  {
   "cell_type": "markdown",
   "id": "b43b9e19",
   "metadata": {},
   "source": [
    "# Q3: Based on Searching and Sorting"
   ]
  },
  {
   "cell_type": "raw",
   "id": "c2069151",
   "metadata": {},
   "source": [
    "(a) For the array: array = np.array([10, 52, 62, 16, 16, 54, 453]), find\n",
    "i. Sorted array\n",
    "ii. Indices of sorted array\n",
    "iii. 4 smallest elements\n",
    "iv. 5 largest elements"
   ]
  },
  {
   "cell_type": "code",
   "execution_count": 18,
   "id": "b5968160",
   "metadata": {},
   "outputs": [
    {
     "name": "stdout",
     "output_type": "stream",
     "text": [
      "[ 10  16  16  52  54  62 453] (array([0, 1, 2, 3, 4, 5, 6]),)\n"
     ]
    }
   ],
   "source": [
    "array = np.array([10, 52, 62, 16, 16, 54, 453])\n",
    "\n",
    "ab=np.sort(array)\n",
    "\n",
    "print(ab,np.where(ab))"
   ]
  },
  {
   "cell_type": "code",
   "execution_count": 19,
   "id": "9f9bac50",
   "metadata": {},
   "outputs": [
    {
     "name": "stdout",
     "output_type": "stream",
     "text": [
      "iii. smallest numbers are :\n",
      "10\n",
      "16\n",
      "16\n",
      "52\n"
     ]
    }
   ],
   "source": [
    "print(\"iii. smallest numbers are :\")\n",
    "\n",
    "for i in range(4):\n",
    "    print(ab[i])\n",
    "    "
   ]
  },
  {
   "cell_type": "code",
   "execution_count": 20,
   "id": "937ff261",
   "metadata": {},
   "outputs": [
    {
     "name": "stdout",
     "output_type": "stream",
     "text": [
      "iv. 5 largest numbers are :\n",
      "16\n",
      "52\n",
      "54\n",
      "62\n",
      "453\n"
     ]
    }
   ],
   "source": [
    "print(\"iv. 5 largest numbers are :\")\n",
    "\n",
    "for i in range(5):\n",
    "    \n",
    "    print(ab[i+2])\n"
   ]
  },
  {
   "cell_type": "raw",
   "id": "78190050",
   "metadata": {},
   "source": [
    "(b) For the array: array = np.array([1.0, 1.2, 2.2, 2.0, 3.0, 2.0]), find\n",
    "i. Integer elements only\n",
    "ii. Float elements only"
   ]
  },
  {
   "cell_type": "code",
   "execution_count": 21,
   "id": "7c34520f",
   "metadata": {},
   "outputs": [],
   "source": [
    "array = np.array([1.0, 1.2, 2.2, 2.0, 3.0, 2.0])\n",
    "\n",
    "arrInt = np.array(array , dtype=int)\n",
    "arrFloat = np.array(array , dtype=float) \n"
   ]
  },
  {
   "cell_type": "code",
   "execution_count": 22,
   "id": "965a0ee1",
   "metadata": {},
   "outputs": [
    {
     "name": "stdout",
     "output_type": "stream",
     "text": [
      "Integers are :  [1 1 2 2 3 2] \n",
      "Float elements are :  [1.  1.2 2.2 2.  3.  2. ]\n"
     ]
    }
   ],
   "source": [
    "print(\"Integers are : \",arrInt,\"\\nFloat elements are : \",arrFloat)"
   ]
  },
  {
   "cell_type": "raw",
   "id": "2c5dd018",
   "metadata": {},
   "source": [
    "Q4:\n",
    "(a) Write a function named img_to_array(path) that reads an image from a specified path and\n",
    "save it as text file on local machine? (Note: use separate cases for RGB and Grey Scale\n",
    "images)\n",
    "(b) Load the saved file into jupyter notebook?"
   ]
  },
  {
   "cell_type": "markdown",
   "id": "5614a0f8",
   "metadata": {},
   "source": [
    "(a)"
   ]
  },
  {
   "cell_type": "code",
   "execution_count": 23,
   "id": "f46e375c",
   "metadata": {},
   "outputs": [],
   "source": [
    "\n",
    "from matplotlib.image import imread\n",
    "\n",
    "def img_to_array(path):\n",
    "    img = imread(path)\n",
    "    print(img)\n",
    "    "
   ]
  },
  {
   "cell_type": "raw",
   "id": "7342e68b",
   "metadata": {},
   "source": [
    "(b)"
   ]
  },
  {
   "cell_type": "code",
   "execution_count": 24,
   "id": "947d1b89",
   "metadata": {},
   "outputs": [
    {
     "name": "stdout",
     "output_type": "stream",
     "text": [
      "[[[255 255 255]\n",
      "  [255 255 255]\n",
      "  [255 255 255]\n",
      "  ...\n",
      "  [255 255 255]\n",
      "  [255 255 255]\n",
      "  [255 255 255]]\n",
      "\n",
      " [[255 255 255]\n",
      "  [255 255 255]\n",
      "  [255 255 255]\n",
      "  ...\n",
      "  [255 255 255]\n",
      "  [255 255 255]\n",
      "  [255 255 255]]\n",
      "\n",
      " [[255 255 255]\n",
      "  [255 255 255]\n",
      "  [255 255 255]\n",
      "  ...\n",
      "  [255 255 255]\n",
      "  [255 255 255]\n",
      "  [255 255 255]]\n",
      "\n",
      " ...\n",
      "\n",
      " [[255 255 255]\n",
      "  [255 255 255]\n",
      "  [255 255 255]\n",
      "  ...\n",
      "  [255 255 255]\n",
      "  [255 255 255]\n",
      "  [255 255 255]]\n",
      "\n",
      " [[255 255 255]\n",
      "  [255 255 255]\n",
      "  [255 255 255]\n",
      "  ...\n",
      "  [255 255 255]\n",
      "  [255 255 255]\n",
      "  [255 255 255]]\n",
      "\n",
      " [[255 255 255]\n",
      "  [255 255 255]\n",
      "  [255 255 255]\n",
      "  ...\n",
      "  [255 255 255]\n",
      "  [255 255 255]\n",
      "  [255 255 255]]]\n"
     ]
    },
    {
     "data": {
      "text/plain": [
       "array(None, dtype=object)"
      ]
     },
     "execution_count": 24,
     "metadata": {},
     "output_type": "execute_result"
    }
   ],
   "source": [
    "\n",
    "c=img_to_array(\"Desktop/STUDY MATERIAL/Screen shots and wallpapers/images.jpeg\")\n",
    "z=np.array(c)\n",
    "\n",
    "z"
   ]
  },
  {
   "cell_type": "code",
   "execution_count": null,
   "id": "d2a4490a",
   "metadata": {},
   "outputs": [],
   "source": []
  },
  {
   "cell_type": "code",
   "execution_count": null,
   "id": "b90ec438",
   "metadata": {},
   "outputs": [],
   "source": []
  },
  {
   "cell_type": "code",
   "execution_count": null,
   "id": "df715f73",
   "metadata": {},
   "outputs": [],
   "source": []
  }
 ],
 "metadata": {
  "kernelspec": {
   "display_name": "Python 3 (ipykernel)",
   "language": "python",
   "name": "python3"
  },
  "language_info": {
   "codemirror_mode": {
    "name": "ipython",
    "version": 3
   },
   "file_extension": ".py",
   "mimetype": "text/x-python",
   "name": "python",
   "nbconvert_exporter": "python",
   "pygments_lexer": "ipython3",
   "version": "3.9.7"
  }
 },
 "nbformat": 4,
 "nbformat_minor": 5
}
